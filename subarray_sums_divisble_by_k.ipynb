{
 "cells": [
  {
   "cell_type": "markdown",
   "id": "094aec44-2d6a-4cdf-b65a-bb6b83a3e860",
   "metadata": {},
   "source": [
    "## 974. Subarray Sums Divisible by K\n",
    "**Medium**\n",
    "\n",
    "Given an integer array nums and an integer k, return the number of non-empty subarrays that have a sum divisible by k.\n",
    "\n",
    "A subarray is a contiguous part of an array.\n",
    "\n",
    "Example 1:\\\n",
    "**Input**: nums = `[4,5,0,-2,-3,1]`, `k = 5`\\\n",
    "**Output**: `7`\n",
    "\n",
    "Explanation: There are 7 subarrays with a sum divisible by `k = 5`:\\\n",
    "`[4, 5, 0, -2, -3, 1], [5], [5, 0], [5, 0, -2, -3], [0], [0, -2, -3], [-2, -3]`\\\n",
    "Example 2:\n",
    "Input: nums = [5], k = 9\n",
    "Output: 0"
   ]
  },
  {
   "cell_type": "code",
   "execution_count": 30,
   "id": "fccb5c19-14bd-4b94-b3f3-f3c227bfde49",
   "metadata": {},
   "outputs": [],
   "source": [
    "class Solution:\n",
    "    def subarraysDivByK(self, nums: list[int], k: int) -> int:\n",
    "        prefix_sum = 0s\n",
    "        count = 0\n",
    "        mod_count = {0: 1}  # Initialize with 0:1 to handle the case where the prefix sum itself is divisible by k\n",
    "        \n",
    "        for num in nums:\n",
    "            prefix_sum += num\n",
    "            mod = prefix_sum % k\n",
    "            \n",
    "            # If mod is negative, convert it to a positive equivalent\n",
    "            if mod < 0:\n",
    "                mod += k\n",
    "            \n",
    "            # If mod is in the hashmap, it means we have seen this mod value before\n",
    "            if mod in mod_count:\n",
    "                count += mod_count[mod]\n",
    "            \n",
    "            # Update the count of this mod value in the hashmap\n",
    "            if mod in mod_count:\n",
    "                mod_count[mod] += 1\n",
    "            else:\n",
    "                mod_count[mod] = 1\n",
    "        \n",
    "        return count"
   ]
  },
  {
   "cell_type": "code",
   "execution_count": 32,
   "id": "c4206846-f8cb-495f-85f5-30453fd17b5a",
   "metadata": {},
   "outputs": [
    {
     "data": {
      "text/plain": [
       "9"
      ]
     },
     "execution_count": 32,
     "metadata": {},
     "output_type": "execute_result"
    }
   ],
   "source": [
    "solution = Solution()\n",
    "nums = [4,5,0,-2,-3,1]\n",
    "k = 2\n",
    "\n",
    "solution.subarraysDivByK(nums, k)"
   ]
  },
  {
   "cell_type": "code",
   "execution_count": null,
   "id": "c2a2dcb3-3d90-4bfd-906e-9ae0b31b85d4",
   "metadata": {},
   "outputs": [],
   "source": []
  }
 ],
 "metadata": {
  "kernelspec": {
   "display_name": "Python 3 (ipykernel)",
   "language": "python",
   "name": "python3"
  },
  "language_info": {
   "codemirror_mode": {
    "name": "ipython",
    "version": 3
   },
   "file_extension": ".py",
   "mimetype": "text/x-python",
   "name": "python",
   "nbconvert_exporter": "python",
   "pygments_lexer": "ipython3",
   "version": "3.10.14"
  }
 },
 "nbformat": 4,
 "nbformat_minor": 5
}
