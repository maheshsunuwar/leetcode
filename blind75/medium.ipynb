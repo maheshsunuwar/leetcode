{
 "cells": [
  {
   "cell_type": "markdown",
   "id": "dae9d7ee-b6b0-41f8-ba3e-72130b29ae64",
   "metadata": {},
   "source": [
    "# Medium"
   ]
  },
  {
   "cell_type": "markdown",
   "id": "2585d6da-6b65-45e3-a858-05caadc6299a",
   "metadata": {},
   "source": [
    "## 238. Product of Array Except Self\n",
    "\n",
    "[Leetcode Link](https://leetcode.com/problems/product-of-array-except-self/description/?envType=problem-list-v2&envId=oizxjoit&)"
   ]
  },
  {
   "cell_type": "code",
   "execution_count": 2,
   "id": "acc133cd-ac09-40c1-96f6-98541f852451",
   "metadata": {},
   "outputs": [
    {
     "data": {
      "text/plain": [
       "[24, 12, 8, 6]"
      ]
     },
     "execution_count": 2,
     "metadata": {},
     "output_type": "execute_result"
    }
   ],
   "source": [
    "class Solution:\n",
    "    def productExceptSelf(self, nums: list[int]) -> list[int]:\n",
    "        left = [1] * len(nums)\n",
    "        right = [1] * len(nums)\n",
    "        final = [1] * len(nums)\n",
    "        for i in range(len(nums)):\n",
    "            if i == 0:\n",
    "                left[i] = nums[i]\n",
    "            else:\n",
    "                left[i] = left[i-1] * nums[i]\n",
    "\n",
    "        j = len(nums) - 1\n",
    "        while j >=0:\n",
    "            if j == len(nums) - 1:\n",
    "                right[j] = nums[j]\n",
    "            else:\n",
    "                right[j] = nums[j] * right[j+1]\n",
    "            j-=1\n",
    "        for i in range(len(nums)):\n",
    "            if i == 0 :\n",
    "                final[i] = right[i+1]\n",
    "            elif i == (len(nums) - 1):\n",
    "                final[i] = left[i-1]\n",
    "            else:\n",
    "                final[i] = left[i-1] * right[i+1]\n",
    "        \n",
    "        return final\n",
    "\n",
    "solution = Solution()\n",
    "nums =  [1,2,3,4]\n",
    "solution.productExceptSelf(nums)"
   ]
  },
  {
   "cell_type": "markdown",
   "id": "35a9f185-c946-40ac-ac96-9f764ed95abe",
   "metadata": {},
   "source": [
    "## 53. Maximum Subarray"
   ]
  },
  {
   "cell_type": "markdown",
   "id": "4d422bec-1c66-4efb-abc0-15ed6b5402a3",
   "metadata": {},
   "source": [
    "\n",
    "Given an integer array nums, find the subarray with the largest sum, and return its sum.\n",
    "\n",
    "**Subarray** is a contiguous non-empty sequence of elements within an array.\n",
    "\n",
    "**Example 1:**\n",
    "\n",
    "Input: nums = [-2,1,-3,4,-1,2,1,-5,4]\n",
    "\n",
    "Output: 6\n",
    "\n",
    "Explanation: The subarray [4,-1,2,1] has the largest sum 6.\n",
    "\n",
    "\n",
    "**Example 2:**\n",
    "Input: nums = [1]\n",
    "\n",
    "Output: 1\n",
    "\n",
    "Explanation: The subarray [1] has the largest sum 1.\n",
    "\n",
    "\n",
    "**Example 3:**\n",
    "Input: nums = [5,4,-1,7,8]\n",
    "\n",
    "Output: 23\n",
    "\n",
    "Explanation: The subarray [5,4,-1,7,8] has the largest sum 23.\n",
    "\n",
    "**Constraints:**\n",
    "\n",
    "`1 <= nums.length <= 105`\n",
    "`-104 <= nums[i] <= 104`\n",
    " \n",
    "\n",
    "`Follow up: If you have figured out the O(n) solution, try coding another solution using the divide and conquer approach, which is more subtle.`"
   ]
  },
  {
   "cell_type": "code",
   "execution_count": 6,
   "id": "c4f84e8c-446c-4191-b2c3-e96674c903ff",
   "metadata": {},
   "outputs": [
    {
     "name": "stdout",
     "output_type": "stream",
     "text": [
      "CPU times: user 33 µs, sys: 0 ns, total: 33 µs\n",
      "Wall time: 37.2 µs\n"
     ]
    },
    {
     "data": {
      "text/plain": [
       "6"
      ]
     },
     "execution_count": 6,
     "metadata": {},
     "output_type": "execute_result"
    }
   ],
   "source": [
    "%%time\n",
    "class Solution:\n",
    "    def maxSubArray(self, nums: list[int]) -> int:\n",
    "        maxSum = nums[0]\n",
    "        curSum = 0\n",
    "        \n",
    "        for n in nums:\n",
    "            if curSum < 0:\n",
    "                curSum = 0\n",
    "            curSum += n\n",
    "            if curSum > maxSum:\n",
    "                maxSum = curSum\n",
    "        return maxSum\n",
    "            \n",
    "            \n",
    "solution = Solution()\n",
    "nums =  [-2,1,-3,4,-1,2,1,-5,4]\n",
    "#output = 6\n",
    "solution.maxSubArray(nums)"
   ]
  },
  {
   "cell_type": "code",
   "execution_count": 7,
   "id": "1b5eaf6e-59bb-472f-ac8b-0db7177a0899",
   "metadata": {},
   "outputs": [
    {
     "name": "stdout",
     "output_type": "stream",
     "text": [
      "CPU times: user 32 µs, sys: 1e+03 ns, total: 33 µs\n",
      "Wall time: 34.8 µs\n"
     ]
    },
    {
     "data": {
      "text/plain": [
       "6"
      ]
     },
     "execution_count": 7,
     "metadata": {},
     "output_type": "execute_result"
    }
   ],
   "source": [
    "%%time\n",
    "class Solution:\n",
    "    def maxSubArray(self, nums: list[int]) -> int:\n",
    "        maxSum = nums[0]\n",
    "        curSum = 0\n",
    "        \n",
    "        for n in nums:\n",
    "            curSum += n\n",
    "            if curSum > maxSum:\n",
    "                maxSum = curSum\n",
    "            if curSum < 0:\n",
    "                curSum = 0\n",
    "        return maxSum\n",
    "            \n",
    "            \n",
    "solution = Solution()\n",
    "nums =  [-2,1,-3,4,-1,2,1,-5,4]\n",
    "#output = 6\n",
    "solution.maxSubArray(nums)"
   ]
  },
  {
   "cell_type": "markdown",
   "id": "a1d2e858-cd5f-40f4-83ba-39042db9dead",
   "metadata": {},
   "source": [
    "## 152. Maximum Product Subarray"
   ]
  },
  {
   "cell_type": "markdown",
   "id": "a7ec43e3-bbed-4313-ab8e-f9a950a19a90",
   "metadata": {},
   "source": [
    "Given an integer array nums, find a subarray that has the largest product, and return the product.\n",
    "\n",
    "The test cases are generated so that the answer will fit in a 32-bit integer.\n",
    "\n",
    " \n",
    "\n",
    "`Example 1:`\n",
    "\n",
    "Input: nums = [2,3,-2,4]\n",
    "\n",
    "Output: 6\n",
    "\n",
    "Explanation: [2,3] has the largest product 6.\n",
    "\n",
    "`Example 2:`\n",
    "\n",
    "Input: nums = [-2,0,-1]\n",
    "\n",
    "Output: 0\n",
    "\n",
    "Explanation: The result cannot be 2, because [-2,-1] is not a subarray.\n",
    " \n",
    "\n",
    "`Constraints:`\n",
    "\n",
    "1 <= nums.length <= 2 * 104\n",
    "\n",
    "-10 <= nums[i] <= 10\n",
    "\n",
    "The product of any prefix or suffix of nums is guaranteed to fit in a 32-bit integer."
   ]
  },
  {
   "cell_type": "code",
   "execution_count": 8,
   "id": "d45928b8-ae94-480e-9d36-176cd8addba0",
   "metadata": {},
   "outputs": [],
   "source": [
    "# class Solution:\n",
    "#     def maxProduct(self, nums: list[int]) -> int:\n",
    "#         maxProduct = nums[0]\n",
    "#         curProduct = 1\n",
    "\n",
    "#         for n in nums:\n",
    "#             curProduct = curProduct*n\n",
    "#             if n <= 0 and curProduct <0:\n",
    "#                 curProduct = 1\n",
    "#                 continue\n",
    "#             if curProduct > maxProduct:\n",
    "#                 maxProduct = curProduct\n",
    "#         # if maxProduct < 0:\n",
    "#         #     maxProduct = 0\n",
    "#         return maxProduct\n",
    "        \n",
    "# solution = Solution()\n",
    "# nums = [-2,0,-1]\n",
    "# # nums = [2,3,-2,4]\n",
    "# nums = [-3,-1,-1]\n",
    "# # nums = [0,2]\n",
    "# # nums = [3,-1,4]\n",
    "# # nums = [-2]\n",
    "# solution.maxProduct(nums)"
   ]
  },
  {
   "cell_type": "code",
   "execution_count": 9,
   "id": "8de150f9-9c70-4bfa-8f83-31994a76f1a7",
   "metadata": {},
   "outputs": [
    {
     "data": {
      "text/plain": [
       "-2"
      ]
     },
     "execution_count": 9,
     "metadata": {},
     "output_type": "execute_result"
    }
   ],
   "source": [
    "class Solution:\n",
    "    def maxProduct(self, nums: list[int]) -> int:\n",
    "        prefix = 1\n",
    "        suffix = 1\n",
    "        maxVal = nums[0]\n",
    "        length_num = len(nums)\n",
    "        for i in range(length_num):\n",
    "            if prefix == 0:\n",
    "                prefix = 1\n",
    "            if suffix == 0:\n",
    "                suffix = 1\n",
    "\n",
    "            prefix = prefix * nums[i]\n",
    "            suffix = suffix * nums[length_num-i-1]\n",
    "            maxVal = max(maxVal, max(prefix, suffix))\n",
    "        return maxVal\n",
    "solution = Solution()\n",
    "nums = [-2,0,-1]\n",
    "# nums = [2,3,-2,4]\n",
    "nums = [-3,-1,-1]\n",
    "# nums = [0,2]\n",
    "# nums = [3,-1,4]\n",
    "nums = [-2]\n",
    "solution.maxProduct(nums)"
   ]
  },
  {
   "cell_type": "markdown",
   "id": "e061e900-83ee-44a0-abf3-244d514b72c8",
   "metadata": {},
   "source": [
    "## 128. Longest Consecutive Sequence"
   ]
  },
  {
   "cell_type": "markdown",
   "id": "e4b26028-fdd5-4c12-8e7a-3abcc03e37a8",
   "metadata": {},
   "source": [
    "Given an unsorted array of integers nums, return the length of the longest consecutive elements sequence.\n",
    "\n",
    "You must write an algorithm that runs in `O(n)` time.\n",
    "\n",
    "`Example 1:`\n",
    "\n",
    "Input: nums = [100,4,200,1,3,2]\n",
    "\n",
    "Output: 4\n",
    "\n",
    "Explanation: The longest consecutive elements sequence is [1, 2, 3, 4]. Therefore its length is 4.\n",
    "\n",
    "`Example 2:`\n",
    "\n",
    "Input: nums = [0,3,7,2,5,8,4,6,0,1]\n",
    "\n",
    "Output: 9\n",
    " \n",
    "\n",
    "`Constraints:`\n",
    "\n",
    "`0 <= nums.length <= 105`\n",
    "\n",
    "`-109 <= nums[i] <= 109`"
   ]
  },
  {
   "cell_type": "code",
   "execution_count": 42,
   "id": "8944e63b-f9f8-40bb-80b0-2aeb330622e2",
   "metadata": {},
   "outputs": [
    {
     "data": {
      "text/plain": [
       "7"
      ]
     },
     "execution_count": 42,
     "metadata": {},
     "output_type": "execute_result"
    }
   ],
   "source": [
    "class Solution:\n",
    "    def longestConsecutive(self, nums: list[int]) -> int:\n",
    "      num_set = set(nums)\n",
    "      longest_seq = 0\n",
    "      \n",
    "      for n in nums:\n",
    "        if (n-1) not in num_set:\n",
    "            length = 0\n",
    "            while(n+length) in num_set:\n",
    "                length +=1\n",
    "            longest_seq = max(length, longest_seq)\n",
    "      return longest_seq\n",
    "      \n",
    "        \n",
    "solution = Solution()\n",
    "# nums = [100,4,200,1,3,2]\n",
    "nums = [9,1,4,7,3,-1,0,5,8,-1,6]\n",
    "solution.longestConsecutive(nums)"
   ]
  },
  {
   "cell_type": "code",
   "execution_count": 1,
   "id": "347de6ad-9f12-4d24-99fb-c6569fbb5107",
   "metadata": {},
   "outputs": [],
   "source": [
    "# nums= list(set(nums))\n",
    "# first_value = nums[0]\n",
    "# last_value = nums[0]\n",
    "\n",
    "# for n in nums:\n",
    "#     print(last_value)\n",
    "#     if n == (last_value+1):\n",
    "#         last_value = n\n",
    "#     elif n == (first_value-1):\n",
    "#         first_value = n\n",
    "# print(first_value, last_value)\n",
    "\n",
    "# # for n in nums:\n",
    "# #     if (n-1) not in num_set:\n",
    "# #         length = 0\n",
    "# #         while(n+length) in num_set:\n",
    "# #             length +=1\n",
    "# #         longest_seq = max(length, longest_seq)\n",
    "# # print(longest_seq)\n"
   ]
  },
  {
   "cell_type": "markdown",
   "id": "1a0d3108-4e14-4713-ba26-7bb31237f8d6",
   "metadata": {},
   "source": [
    "## 3. Longest Substring Without Repeating Characters\n",
    "\n",
    "[Leetcode Link](https://leetcode.com/problems/longest-substring-without-repeating-characters/description/?envType=problem-list-v2&envId=oizxjoit&)\n",
    "\n",
    "Example 1:\n",
    "\n",
    "> Input: s = \"abcabcbb\"\n",
    "> \n",
    "> Output: 3\n",
    "> \n",
    "> Explanation: The answer is \"abc\", with the length of 3."
   ]
  },
  {
   "cell_type": "code",
   "execution_count": 72,
   "id": "39f8d382-fdcc-4883-9bad-cdc0c3b982d2",
   "metadata": {},
   "outputs": [
    {
     "data": {
      "text/plain": [
       "3"
      ]
     },
     "execution_count": 72,
     "metadata": {},
     "output_type": "execute_result"
    }
   ],
   "source": [
    "class Solution:\n",
    "    def lengthOfLongestSubstring(self, s: str) -> int:\n",
    "\n",
    "        i = 0\n",
    "        j=0\n",
    "        longest = 0\n",
    "        c_set = set() # setting a set because we want to check if the value already occurred\n",
    "\n",
    "        while j<len(s):\n",
    "            if s[j] in c_set:\n",
    "                c_set.remove(s[i])\n",
    "                i +=1\n",
    "                continue\n",
    "            \n",
    "            c_set.add(s[j])\n",
    "            longest = max(longest, (j-i+1))\n",
    "            j+=1\n",
    "        return longest\n",
    "\n",
    "solution = Solution()\n",
    "s = 'abcabcbb'\n",
    "# s= 'dvdf'\n",
    "# s = 'pwwkew'\n",
    "solution.lengthOfLongestSubstring(s)"
   ]
  },
  {
   "cell_type": "markdown",
   "id": "659393fc-54b2-42d8-813a-2b5f84c8189f",
   "metadata": {},
   "source": [
    "## 424. Longest Repeating Character Replacement\n",
    "\n",
    "[Leetcode Link](https://leetcode.com/problems/longest-repeating-character-replacement/description/?envType=problem-list-v2&envId=oizxjoit&)\n",
    "\n",
    "You are given a string s and an integer k. You can choose any character of the string and change it to any other uppercase English character. You can perform this operation at most k times.\n",
    "\n",
    "`Return` the length of the longest substring containing the same letter you can get after performing the above operations.\n",
    "\n",
    "Example 1:\n",
    "\n",
    "Input: s = \"ABAB\", k = 2\n",
    "\n",
    "Output: 4\n",
    "\n",
    "Explanation: Replace the two 'A's with two 'B's or vice versa."
   ]
  },
  {
   "cell_type": "code",
   "execution_count": 144,
   "id": "bd423996-95b0-4b11-8a03-d8c56824fe40",
   "metadata": {},
   "outputs": [
    {
     "name": "stdout",
     "output_type": "stream",
     "text": [
      "{'A': 1}\n",
      "{'A': 1, 'B': 1}\n",
      "A\n",
      "{'A': 2, 'B': 1}\n",
      "B\n",
      "{'A': 2, 'B': 2}\n",
      "B\n",
      "{'A': 1, 'B': 3}\n",
      "A\n",
      "{'A': 2, 'B': 3}\n"
     ]
    },
    {
     "data": {
      "text/plain": [
       "6"
      ]
     },
     "execution_count": 144,
     "metadata": {},
     "output_type": "execute_result"
    }
   ],
   "source": [
    "def characterReplacement(s: str, k: int) -> int:\n",
    "    i,j = 0,0\n",
    "\n",
    "    count_map = {}\n",
    "    count_most_freq_char = 0\n",
    "    longest = 0\n",
    "    while j <len(s):\n",
    "        if (j-i +1) - count_most_freq_char <=k:\n",
    "            if s[j] in count_map.keys():\n",
    "                print(s[j])\n",
    "                count_map[s[j]] = count_map[s[j]] + 1\n",
    "            else:\n",
    "                count_map[s[j]] = 1\n",
    "            print(count_map)\n",
    "            j+=1\n",
    "        else:\n",
    "            count_map[s[i]] -= 1\n",
    "            i+=1\n",
    "        longest = max(longest, (j-i+1))\n",
    "        count_most_freq_char = max(list(count_map.values()))\n",
    "    return longest\n",
    "\n",
    "\n",
    "s = 'AABBCCD'\n",
    "s = 'ABABBA'\n",
    "k = 2\n",
    "\n",
    "characterReplacement(s,k)"
   ]
  },
  {
   "cell_type": "code",
   "execution_count": 142,
   "id": "09ea70f4-53cd-4972-a1a6-d9806d118be8",
   "metadata": {},
   "outputs": [
    {
     "data": {
      "text/plain": [
       "{5: 5}"
      ]
     },
     "execution_count": 142,
     "metadata": {},
     "output_type": "execute_result"
    }
   ],
   "source": [
    "a = {}\n",
    "a[5] = 5\n",
    "a"
   ]
  },
  {
   "cell_type": "code",
   "execution_count": 139,
   "id": "c949151e-6bce-4f80-b0bd-ec1f5d3434a2",
   "metadata": {},
   "outputs": [
    {
     "data": {
      "text/plain": [
       "5"
      ]
     },
     "execution_count": 139,
     "metadata": {},
     "output_type": "execute_result"
    }
   ],
   "source": [
    "a.get(5)"
   ]
  },
  {
   "cell_type": "code",
   "execution_count": 140,
   "id": "91b406f5-823c-49b8-a33e-7456c789daac",
   "metadata": {},
   "outputs": [
    {
     "data": {
      "text/plain": [
       "5"
      ]
     },
     "execution_count": 140,
     "metadata": {},
     "output_type": "execute_result"
    }
   ],
   "source": [
    "a[5]"
   ]
  },
  {
   "cell_type": "code",
   "execution_count": null,
   "id": "0578ee15-f208-4d5c-8540-7112157df22b",
   "metadata": {},
   "outputs": [],
   "source": []
  }
 ],
 "metadata": {
  "kernelspec": {
   "display_name": "Python 3 (ipykernel)",
   "language": "python",
   "name": "python3"
  },
  "language_info": {
   "codemirror_mode": {
    "name": "ipython",
    "version": 3
   },
   "file_extension": ".py",
   "mimetype": "text/x-python",
   "name": "python",
   "nbconvert_exporter": "python",
   "pygments_lexer": "ipython3",
   "version": "3.10.14"
  }
 },
 "nbformat": 4,
 "nbformat_minor": 5
}
