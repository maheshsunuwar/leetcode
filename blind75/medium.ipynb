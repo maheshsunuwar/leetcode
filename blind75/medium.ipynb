{
 "cells": [
  {
   "cell_type": "markdown",
   "id": "dae9d7ee-b6b0-41f8-ba3e-72130b29ae64",
   "metadata": {},
   "source": [
    "# Medium"
   ]
  },
  {
   "cell_type": "markdown",
   "id": "2585d6da-6b65-45e3-a858-05caadc6299a",
   "metadata": {},
   "source": [
    "## 238. Product of Array Except Self WIP"
   ]
  },
  {
   "cell_type": "markdown",
   "id": "85ceaf14-1a5f-4e09-8c3a-e699ad03b61f",
   "metadata": {},
   "source": [
    "Given an integer array nums, return an array answer such that answer[i] is equal to the product of all the elements of nums except nums[i].\n",
    "\n",
    "The product of any prefix or suffix of nums is guaranteed to fit in a 32-bit integer.\n",
    "\n",
    "You must `write an algorithm that runs in O(n)` time and `without using the division` operation.\n",
    "\n",
    " \n",
    "\n",
    "**Example 1:**\n",
    "\n",
    "Input: nums = [1,2,3,4]\n",
    "\n",
    "Output: [24,12,8,6]\n",
    "\n",
    "**Example 2:**\n",
    "\n",
    "Input: nums = [-1,1,0,-3,3]\n",
    "\n",
    "Output: [0,0,9,0,0]\n",
    " \n",
    "\n",
    "**Constraints:**\n",
    "\n",
    "`2 <= nums.length <= 105`\n",
    "\n",
    "`-30 <= nums[i] <= 30`\n",
    "\n",
    "The product of any prefix or suffix of nums is guaranteed to fit in a 32-bit integer.\n"
   ]
  },
  {
   "cell_type": "markdown",
   "id": "d72b673b-6eeb-4f7a-846e-52ed123a3bca",
   "metadata": {},
   "source": [
    "lets change `1, 2, 3, 4` positions to symbols like `a, b, c, d` so multiplying will be:\n",
    "\n",
    "prefix:->\n",
    "\n",
    "`|       a       |   a*b   | a*b*c | a*b*c*d |`\n",
    "\n",
    "postfix: <-\n",
    "\n",
    "`| a*b*c*d | b*c*d |   c*d   |      d        |`\n",
    "\n",
    "\n",
    "the result is a multiply without the symbol in own position (the left value from prefix and the right one from postfix):\n",
    "\n",
    "`|    b*c*d  | a*c*d | a*b*d |   a*b*c   |`"
   ]
  },
  {
   "cell_type": "code",
   "execution_count": 2,
   "id": "acc133cd-ac09-40c1-96f6-98541f852451",
   "metadata": {},
   "outputs": [
    {
     "name": "stdout",
     "output_type": "stream",
     "text": [
      "[1, 2, 6, 24] [6, 6, 3, 1]\n"
     ]
    }
   ],
   "source": [
    "class Solution:\n",
    "    def productExceptSelf(self, nums:list[int]):\n",
    "        output = len(nums) * [1]\n",
    "        prefix = len(nums) * [1]\n",
    "        postfix = len(nums) * [1]\n",
    "\n",
    "        for i in range(len(nums)):\n",
    "            if i == 0:\n",
    "                prefix[i] = 1\n",
    "            else:\n",
    "                prefix[i] = prefix[i-1] * nums[i]\n",
    "\n",
    "        for i in range(len(nums)-1,-1,-1):\n",
    "            if len(nums)-1 == i:\n",
    "                postfix[i] = 1\n",
    "            else:\n",
    "                postfix[i] = postfix[i+1] * nums[i]\n",
    "                \n",
    "        print(prefix, postfix)\n",
    "\n",
    "solution = Solution()\n",
    "nums =  [1,2,3,4]\n",
    "solution.productExceptSelf(nums)"
   ]
  },
  {
   "cell_type": "code",
   "execution_count": 5,
   "id": "e7d125cf-fd7e-4486-83da-3ab836226b31",
   "metadata": {},
   "outputs": [
    {
     "data": {
      "text/plain": [
       "[3, 2, 1, 0]"
      ]
     },
     "execution_count": 5,
     "metadata": {},
     "output_type": "execute_result"
    }
   ],
   "source": [
    "list(range(len(nums)-1,-1,-1))"
   ]
  },
  {
   "cell_type": "markdown",
   "id": "35a9f185-c946-40ac-ac96-9f764ed95abe",
   "metadata": {},
   "source": [
    "## 53. Maximum Subarray"
   ]
  },
  {
   "cell_type": "markdown",
   "id": "4d422bec-1c66-4efb-abc0-15ed6b5402a3",
   "metadata": {},
   "source": [
    "\n",
    "Given an integer array nums, find the subarray with the largest sum, and return its sum.\n",
    "\n",
    "**Subarray** is a contiguous non-empty sequence of elements within an array.\n",
    "\n",
    "**Example 1:**\n",
    "\n",
    "Input: nums = [-2,1,-3,4,-1,2,1,-5,4]\n",
    "\n",
    "Output: 6\n",
    "\n",
    "Explanation: The subarray [4,-1,2,1] has the largest sum 6.\n",
    "\n",
    "\n",
    "**Example 2:**\n",
    "Input: nums = [1]\n",
    "\n",
    "Output: 1\n",
    "\n",
    "Explanation: The subarray [1] has the largest sum 1.\n",
    "\n",
    "\n",
    "**Example 3:**\n",
    "Input: nums = [5,4,-1,7,8]\n",
    "\n",
    "Output: 23\n",
    "\n",
    "Explanation: The subarray [5,4,-1,7,8] has the largest sum 23.\n",
    "\n",
    "**Constraints:**\n",
    "\n",
    "`1 <= nums.length <= 105`\n",
    "`-104 <= nums[i] <= 104`\n",
    " \n",
    "\n",
    "`Follow up: If you have figured out the O(n) solution, try coding another solution using the divide and conquer approach, which is more subtle.`"
   ]
  },
  {
   "cell_type": "code",
   "execution_count": 6,
   "id": "c4f84e8c-446c-4191-b2c3-e96674c903ff",
   "metadata": {},
   "outputs": [
    {
     "name": "stdout",
     "output_type": "stream",
     "text": [
      "CPU times: user 33 µs, sys: 0 ns, total: 33 µs\n",
      "Wall time: 37.2 µs\n"
     ]
    },
    {
     "data": {
      "text/plain": [
       "6"
      ]
     },
     "execution_count": 6,
     "metadata": {},
     "output_type": "execute_result"
    }
   ],
   "source": [
    "%%time\n",
    "class Solution:\n",
    "    def maxSubArray(self, nums: list[int]) -> int:\n",
    "        maxSum = nums[0]\n",
    "        curSum = 0\n",
    "        \n",
    "        for n in nums:\n",
    "            if curSum < 0:\n",
    "                curSum = 0\n",
    "            curSum += n\n",
    "            if curSum > maxSum:\n",
    "                maxSum = curSum\n",
    "        return maxSum\n",
    "            \n",
    "            \n",
    "solution = Solution()\n",
    "nums =  [-2,1,-3,4,-1,2,1,-5,4]\n",
    "#output = 6\n",
    "solution.maxSubArray(nums)"
   ]
  },
  {
   "cell_type": "code",
   "execution_count": 7,
   "id": "1b5eaf6e-59bb-472f-ac8b-0db7177a0899",
   "metadata": {},
   "outputs": [
    {
     "name": "stdout",
     "output_type": "stream",
     "text": [
      "CPU times: user 32 µs, sys: 1e+03 ns, total: 33 µs\n",
      "Wall time: 34.8 µs\n"
     ]
    },
    {
     "data": {
      "text/plain": [
       "6"
      ]
     },
     "execution_count": 7,
     "metadata": {},
     "output_type": "execute_result"
    }
   ],
   "source": [
    "%%time\n",
    "class Solution:\n",
    "    def maxSubArray(self, nums: list[int]) -> int:\n",
    "        maxSum = nums[0]\n",
    "        curSum = 0\n",
    "        \n",
    "        for n in nums:\n",
    "            curSum += n\n",
    "            if curSum > maxSum:\n",
    "                maxSum = curSum\n",
    "            if curSum < 0:\n",
    "                curSum = 0\n",
    "        return maxSum\n",
    "            \n",
    "            \n",
    "solution = Solution()\n",
    "nums =  [-2,1,-3,4,-1,2,1,-5,4]\n",
    "#output = 6\n",
    "solution.maxSubArray(nums)"
   ]
  },
  {
   "cell_type": "markdown",
   "id": "a1d2e858-cd5f-40f4-83ba-39042db9dead",
   "metadata": {},
   "source": [
    "## 152. Maximum Product Subarray"
   ]
  },
  {
   "cell_type": "markdown",
   "id": "a7ec43e3-bbed-4313-ab8e-f9a950a19a90",
   "metadata": {},
   "source": [
    "Given an integer array nums, find a subarray that has the largest product, and return the product.\n",
    "\n",
    "The test cases are generated so that the answer will fit in a 32-bit integer.\n",
    "\n",
    " \n",
    "\n",
    "`Example 1:`\n",
    "\n",
    "Input: nums = [2,3,-2,4]\n",
    "\n",
    "Output: 6\n",
    "\n",
    "Explanation: [2,3] has the largest product 6.\n",
    "\n",
    "`Example 2:`\n",
    "\n",
    "Input: nums = [-2,0,-1]\n",
    "\n",
    "Output: 0\n",
    "\n",
    "Explanation: The result cannot be 2, because [-2,-1] is not a subarray.\n",
    " \n",
    "\n",
    "`Constraints:`\n",
    "\n",
    "1 <= nums.length <= 2 * 104\n",
    "\n",
    "-10 <= nums[i] <= 10\n",
    "\n",
    "The product of any prefix or suffix of nums is guaranteed to fit in a 32-bit integer."
   ]
  },
  {
   "cell_type": "code",
   "execution_count": 8,
   "id": "d45928b8-ae94-480e-9d36-176cd8addba0",
   "metadata": {},
   "outputs": [],
   "source": [
    "# class Solution:\n",
    "#     def maxProduct(self, nums: list[int]) -> int:\n",
    "#         maxProduct = nums[0]\n",
    "#         curProduct = 1\n",
    "\n",
    "#         for n in nums:\n",
    "#             curProduct = curProduct*n\n",
    "#             if n <= 0 and curProduct <0:\n",
    "#                 curProduct = 1\n",
    "#                 continue\n",
    "#             if curProduct > maxProduct:\n",
    "#                 maxProduct = curProduct\n",
    "#         # if maxProduct < 0:\n",
    "#         #     maxProduct = 0\n",
    "#         return maxProduct\n",
    "        \n",
    "# solution = Solution()\n",
    "# nums = [-2,0,-1]\n",
    "# # nums = [2,3,-2,4]\n",
    "# nums = [-3,-1,-1]\n",
    "# # nums = [0,2]\n",
    "# # nums = [3,-1,4]\n",
    "# # nums = [-2]\n",
    "# solution.maxProduct(nums)"
   ]
  },
  {
   "cell_type": "code",
   "execution_count": 9,
   "id": "8de150f9-9c70-4bfa-8f83-31994a76f1a7",
   "metadata": {},
   "outputs": [
    {
     "data": {
      "text/plain": [
       "-2"
      ]
     },
     "execution_count": 9,
     "metadata": {},
     "output_type": "execute_result"
    }
   ],
   "source": [
    "class Solution:\n",
    "    def maxProduct(self, nums: list[int]) -> int:\n",
    "        prefix = 1\n",
    "        suffix = 1\n",
    "        maxVal = nums[0]\n",
    "        length_num = len(nums)\n",
    "        for i in range(length_num):\n",
    "            if prefix == 0:\n",
    "                prefix = 1\n",
    "            if suffix == 0:\n",
    "                suffix = 1\n",
    "\n",
    "            prefix = prefix * nums[i]\n",
    "            suffix = suffix * nums[length_num-i-1]\n",
    "            maxVal = max(maxVal, max(prefix, suffix))\n",
    "        return maxVal\n",
    "solution = Solution()\n",
    "nums = [-2,0,-1]\n",
    "# nums = [2,3,-2,4]\n",
    "nums = [-3,-1,-1]\n",
    "# nums = [0,2]\n",
    "# nums = [3,-1,4]\n",
    "nums = [-2]\n",
    "solution.maxProduct(nums)"
   ]
  },
  {
   "cell_type": "markdown",
   "id": "e061e900-83ee-44a0-abf3-244d514b72c8",
   "metadata": {},
   "source": [
    "## 128. Longest Consecutive Sequence"
   ]
  },
  {
   "cell_type": "markdown",
   "id": "e4b26028-fdd5-4c12-8e7a-3abcc03e37a8",
   "metadata": {},
   "source": [
    "Given an unsorted array of integers nums, return the length of the longest consecutive elements sequence.\n",
    "\n",
    "You must write an algorithm that runs in `O(n)` time.\n",
    "\n",
    "`Example 1:`\n",
    "\n",
    "Input: nums = [100,4,200,1,3,2]\n",
    "\n",
    "Output: 4\n",
    "\n",
    "Explanation: The longest consecutive elements sequence is [1, 2, 3, 4]. Therefore its length is 4.\n",
    "\n",
    "`Example 2:`\n",
    "\n",
    "Input: nums = [0,3,7,2,5,8,4,6,0,1]\n",
    "\n",
    "Output: 9\n",
    " \n",
    "\n",
    "`Constraints:`\n",
    "\n",
    "`0 <= nums.length <= 105`\n",
    "\n",
    "`-109 <= nums[i] <= 109`"
   ]
  },
  {
   "cell_type": "code",
   "execution_count": 42,
   "id": "8944e63b-f9f8-40bb-80b0-2aeb330622e2",
   "metadata": {},
   "outputs": [
    {
     "data": {
      "text/plain": [
       "7"
      ]
     },
     "execution_count": 42,
     "metadata": {},
     "output_type": "execute_result"
    }
   ],
   "source": [
    "class Solution:\n",
    "    def longestConsecutive(self, nums: list[int]) -> int:\n",
    "      num_set = set(nums)\n",
    "      longest_seq = 0\n",
    "      \n",
    "      for n in nums:\n",
    "        if (n-1) not in num_set:\n",
    "            length = 0\n",
    "            while(n+length) in num_set:\n",
    "                length +=1\n",
    "            longest_seq = max(length, longest_seq)\n",
    "      return longest_seq\n",
    "      \n",
    "        \n",
    "solution = Solution()\n",
    "# nums = [100,4,200,1,3,2]\n",
    "nums = [9,1,4,7,3,-1,0,5,8,-1,6]\n",
    "solution.longestConsecutive(nums)"
   ]
  },
  {
   "cell_type": "code",
   "execution_count": 1,
   "id": "347de6ad-9f12-4d24-99fb-c6569fbb5107",
   "metadata": {},
   "outputs": [],
   "source": [
    "# nums= list(set(nums))\n",
    "# first_value = nums[0]\n",
    "# last_value = nums[0]\n",
    "\n",
    "# for n in nums:\n",
    "#     print(last_value)\n",
    "#     if n == (last_value+1):\n",
    "#         last_value = n\n",
    "#     elif n == (first_value-1):\n",
    "#         first_value = n\n",
    "# print(first_value, last_value)\n",
    "\n",
    "# # for n in nums:\n",
    "# #     if (n-1) not in num_set:\n",
    "# #         length = 0\n",
    "# #         while(n+length) in num_set:\n",
    "# #             length +=1\n",
    "# #         longest_seq = max(length, longest_seq)\n",
    "# # print(longest_seq)\n"
   ]
  },
  {
   "cell_type": "markdown",
   "id": "1a0d3108-4e14-4713-ba26-7bb31237f8d6",
   "metadata": {},
   "source": []
  },
  {
   "cell_type": "code",
   "execution_count": null,
   "id": "39f8d382-fdcc-4883-9bad-cdc0c3b982d2",
   "metadata": {},
   "outputs": [],
   "source": []
  },
  {
   "cell_type": "code",
   "execution_count": null,
   "id": "b9de3924-e850-4fe0-9f6a-8fdb66922b0d",
   "metadata": {},
   "outputs": [],
   "source": []
  }
 ],
 "metadata": {
  "kernelspec": {
   "display_name": "Python 3 (ipykernel)",
   "language": "python",
   "name": "python3"
  },
  "language_info": {
   "codemirror_mode": {
    "name": "ipython",
    "version": 3
   },
   "file_extension": ".py",
   "mimetype": "text/x-python",
   "name": "python",
   "nbconvert_exporter": "python",
   "pygments_lexer": "ipython3",
   "version": "3.10.14"
  }
 },
 "nbformat": 4,
 "nbformat_minor": 5
}
