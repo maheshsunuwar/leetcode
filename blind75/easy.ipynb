{
 "cells": [
  {
   "cell_type": "markdown",
   "id": "1a8d7af5-0388-4575-b52b-6c4cba42e144",
   "metadata": {},
   "source": [
    "## Easy"
   ]
  },
  {
   "cell_type": "markdown",
   "id": "47694c8c-79cf-418b-ad6a-25969b9a7e92",
   "metadata": {},
   "source": [
    "### Two Sum "
   ]
  },
  {
   "cell_type": "markdown",
   "id": "ba5c3076-e625-4e90-b8c4-e11b0fad6e21",
   "metadata": {},
   "source": [
    "Given an array of integers `nums` and an integer `target`, return indices of the two numbers such that they add up to `target`.\n",
    "\n",
    "You may assume that each input would have exactly one solution, and you may not use the same element twice.\n",
    "\n",
    "You can return the answer in any order.\n",
    "\n",
    "Example 1:\n",
    "\n",
    "Input: nums = [2,7,11,15], target = 9\n",
    "\n",
    "Output: [0,1]\n",
    "\n",
    "Explanation: Because nums[0] + nums[1] == 9, we return [0, 1].\n",
    "\n",
    "Example 2:\n",
    "\n",
    "Input: nums = [3,2,4], target = 6\n",
    "\n",
    "Output: [1,2]\n",
    "\n",
    "Example 3:\n",
    "\n",
    "Input: nums = [3,3], target = 6\\n\n",
    "\n",
    "Output: [0,1]\n",
    "\n",
    "**Constraints:**\n",
    "\n",
    "- 2 <= nums.length <= 10^4\n",
    "- -10^9 <= nums[i] <= 10^9\n",
    "- -10^9 <= target <= 109\n",
    "- Only one valid answer exists. **we dont have to worry about no solution or multiple solutions**"
   ]
  },
  {
   "cell_type": "code",
   "execution_count": 1,
   "id": "16335c68-cf98-4e78-98c4-808050cfeb6c",
   "metadata": {},
   "outputs": [
    {
     "name": "stdout",
     "output_type": "stream",
     "text": [
      "{3: 7, 2: 1, 4: 2, 8: 3, 7: 4, 5: 5, 0: 6, 6: 8}\n",
      "None\n",
      "CPU times: user 166 µs, sys: 64 µs, total: 230 µs\n",
      "Wall time: 191 µs\n"
     ]
    }
   ],
   "source": [
    "%%time\n",
    "class Solution:        \n",
    "    def twoSum(self, nums: list[int], target: int) -> list[int]:\n",
    "        value_index_hash = {}\n",
    "        for i in range(len(nums)):\n",
    "            if (target - nums[i]) in value_index_hash.keys():\n",
    "                return [value_index_hash[target - nums[i]], i]\n",
    "            else:\n",
    "                value_index_hash[nums[i]] = i\n",
    "        print(value_index_hash)\n",
    "                \n",
    "            \n",
    "\n",
    "        \n",
    "\n",
    "solution = Solution()\n",
    "nums = [3,2,4,8,7,5,0,3,6]\n",
    "target = 100\n",
    "\n",
    "print(solution.twoSum(nums, target))"
   ]
  },
  {
   "cell_type": "markdown",
   "id": "e0bb892a-0807-419b-b5a7-1d2323f75fa3",
   "metadata": {},
   "source": [
    "### 121. Best Time to buy and sell stock"
   ]
  },
  {
   "cell_type": "markdown",
   "id": "08ebb1c9-aa5d-4cf4-a41b-19b6d00c8dbe",
   "metadata": {},
   "source": [
    "You are given an array prices where prices[i] is the price of a given stock on the ith day.\n",
    "\n",
    "You want to maximize your profit by choosing a single day to buy one stock and choosing a different day in the future to sell that stock.\n",
    "\n",
    "Return the maximum profit you can achieve from this transaction. If you cannot achieve any profit, return 0.\n",
    "\n",
    " \n",
    "\n",
    "Example 1:\n",
    "\n",
    "Input: prices = [7,1,5,3,6,4]\n",
    "\n",
    "Output: 5\n",
    "\n",
    "Explanation: Buy on day 2 (price = 1) and sell on day 5 (price = 6), profit = 6-1 = 5.\n",
    "\n",
    "Note that buying on day 2 and selling on day 1 is not allowed because you must buy before you sell.\n",
    "\n",
    "Example 2:\n",
    "\n",
    "Input: prices = [7,6,4,3,1]\n",
    "\n",
    "Output: 0\n",
    "\n",
    "Explanation: In this case, no transactions are done and the max profit = 0.\n",
    " \n",
    "\n",
    "Constraints:\n",
    "\n",
    "1 <= prices.length <= 105\n",
    "\n",
    "0 <= prices[i] <= 104"
   ]
  },
  {
   "cell_type": "code",
   "execution_count": 2,
   "id": "d704b6a4-af21-4576-901c-d47c1cc59668",
   "metadata": {},
   "outputs": [
    {
     "name": "stdout",
     "output_type": "stream",
     "text": [
      "6\n",
      "CPU times: user 284 µs, sys: 198 µs, total: 482 µs\n",
      "Wall time: 340 µs\n"
     ]
    }
   ],
   "source": [
    "%%time\n",
    "class Solution:\n",
    "    def maxProfit(self, prices: list[int]) -> int:\n",
    "        l, r = 0, 1\n",
    "        cur_profit = 0\n",
    "\n",
    "        while r < len(prices):\n",
    "            if prices[l] < prices[r]:\n",
    "                profit = prices[r] - prices[l]\n",
    "                cur_profit = max(cur_profit, profit)\n",
    "            else:\n",
    "                l = r\n",
    "            r = r+1\n",
    "        return cur_profit\n",
    "\n",
    "solution = Solution()\n",
    "prices = [3,2,4,8,7,5,0,3,6]\n",
    "# prices = [7,6,4,3,1]\n",
    "# prices = [7,1,5,3,6,4]\n",
    "\n",
    "\n",
    "print(solution.maxProfit(prices))\n",
    "        "
   ]
  },
  {
   "cell_type": "markdown",
   "id": "cd1cd9d4-6c73-465a-bc05-c1d5032b13de",
   "metadata": {},
   "source": [
    "### 217. Contains Duplicate "
   ]
  },
  {
   "cell_type": "markdown",
   "id": "68063f30-f6bc-40c2-bcd4-65bf13b8cc85",
   "metadata": {},
   "source": [
    "Given an integer array nums, `return true` if any value appears at least `twice` in the array, and return false if every element is distinct.\n",
    "\n",
    "Example 1:\n",
    "\n",
    "Input: nums = [1,2,3,1]\n",
    "\n",
    "Output: true\n",
    "\n",
    "Example 2:\n",
    "\n",
    "Input: nums = [1,2,3,4]\n",
    "\n",
    "Output: false\n",
    "\n",
    "Example 3:\n",
    "\n",
    "Input: nums = [1,1,1,3,3,4,3,2,4,2]\n",
    "\n",
    "Output: true\n",
    " \n",
    "\n",
    "Constraints:\n",
    "\n",
    "`1 <= nums.length <= 105`\n",
    "\n",
    "`-109 <= nums[i] <= 109`\n"
   ]
  },
  {
   "cell_type": "code",
   "execution_count": 3,
   "id": "71fd524c-e646-4a5b-b70e-25fcf6ea3b6e",
   "metadata": {},
   "outputs": [
    {
     "data": {
      "text/plain": [
       "False"
      ]
     },
     "execution_count": 3,
     "metadata": {},
     "output_type": "execute_result"
    }
   ],
   "source": [
    "class Solution:\n",
    "    def containsDuplicate(self, nums: list[int]) -> bool:\n",
    "        value_set = {}\n",
    "        for n in nums:\n",
    "            if n in value_set.keys():\n",
    "                return True\n",
    "            else:\n",
    "                value_set[n] = 1\n",
    "        return False\n",
    "        \n",
    "solution = Solution()\n",
    "nums = [1,2,3,1]\n",
    "nums = [1,1,1,3,3,4,3,2,4,2]\n",
    "nums = [1,2,3,4]\n",
    "solution.containsDuplicate(nums)"
   ]
  },
  {
   "cell_type": "code",
   "execution_count": 4,
   "id": "5c3cd5cd-1cd8-4ed3-b0d8-0c43ef0efed3",
   "metadata": {},
   "outputs": [
    {
     "name": "stdout",
     "output_type": "stream",
     "text": [
      "{3, 4, 5}\n"
     ]
    },
    {
     "data": {
      "text/plain": [
       "True"
      ]
     },
     "execution_count": 4,
     "metadata": {},
     "output_type": "execute_result"
    }
   ],
   "source": [
    "value_set = {3,4,5}\n",
    "value_set.add(5)\n",
    "print(value_set)\n",
    "5 in value_set"
   ]
  },
  {
   "cell_type": "markdown",
   "id": "8f7dde9c-6b13-45af-bcf7-2949d3388302",
   "metadata": {},
   "source": [
    "### 125. Valid Palindrome"
   ]
  },
  {
   "cell_type": "markdown",
   "id": "efbf480d-8b42-4862-a4c5-a732da929fcf",
   "metadata": {},
   "source": [
    "A phrase is a palindrome if, after converting all uppercase letters into lowercase letters and removing all non-alphanumeric characters, it reads the same forward and backward. Alphanumeric characters include letters and numbers.\n",
    "\n",
    "Given a string s, return true if it is a palindrome, or false otherwise.\n",
    "\n",
    " \n",
    "\n",
    "Example 1:\n",
    "\n",
    "Input: s = \"A man, a plan, a canal: Panama\"\n",
    "\n",
    "Output: true\n",
    "\n",
    "Explanation: \"amanaplanacanalpanama\" is a palindrome.\n",
    "\n",
    "Example 2:\n",
    "\n",
    "Input: s = \"race a car\"\n",
    "\n",
    "Output: false\n",
    "\n",
    "Explanation: \"raceacar\" is not a palindrome.\n",
    "\n",
    "Example 3:\n",
    "\n",
    "Input: s = \" \"\n",
    "\n",
    "Output: true\n",
    "\n",
    "Explanation: s is an empty string \"\" after removing non-alphanumeric characters.\n",
    "\n",
    "Since an empty string reads the same forward and backward, it is a palindrome.\n",
    " \n",
    "Constraints:\n",
    "\n",
    "1 <= s.length <= 2 * 105\n",
    "\n",
    "s consists only of printable ASCII characters."
   ]
  },
  {
   "cell_type": "code",
   "execution_count": 5,
   "id": "f09aedef-054c-418c-a44c-9f8d316804d0",
   "metadata": {},
   "outputs": [
    {
     "data": {
      "text/plain": [
       "True"
      ]
     },
     "execution_count": 5,
     "metadata": {},
     "output_type": "execute_result"
    }
   ],
   "source": [
    "class Solution:\n",
    "    def isPalindrome(self, s: str) -> bool:\n",
    "        modified_str = ''\n",
    "        for c in s:\n",
    "            if c.isalnum():\n",
    "                modified_str+=c.lower()\n",
    "        return modified_str == modified_str[::-1]\n",
    "            \n",
    "\n",
    "solution = Solution()\n",
    "s = \"Marge, let's \\\"[went].\\\" I await {news} telegram.\"\n",
    "# s = \"A man, a plan, a canal: Panama\"\n",
    "solution.isPalindrome(s)"
   ]
  },
  {
   "cell_type": "code",
   "execution_count": 6,
   "id": "f78f735a-e44e-46e8-bff6-a9e3ebf4cb84",
   "metadata": {},
   "outputs": [
    {
     "data": {
      "text/plain": [
       "True"
      ]
     },
     "execution_count": 6,
     "metadata": {},
     "output_type": "execute_result"
    }
   ],
   "source": [
    "# two pointer solution\n",
    "\n",
    "class Solution:\n",
    "    def isPalindrome(self, s: str) -> bool:\n",
    "        modified_str = ''\n",
    "        #remove all non alphanumeric values\n",
    "        # complexity of this algorithm is O(n)\n",
    "        for c in s:\n",
    "            if c.isalnum():\n",
    "                modified_str+=c.lower()\n",
    "        i = 0\n",
    "        j = len(modified_str) - 1\n",
    "\n",
    "        # check the first index value and last index value simultaneously\n",
    "        # stop in the middle - and if middle reached then palindrome true\n",
    "        # else palindrome false\n",
    "        # complexity of this algorithm is O(n/2) = O(n)\n",
    "        while i < j:\n",
    "            if modified_str[i] !=modified_str[j]:\n",
    "                return False\n",
    "            else:\n",
    "                i +=1\n",
    "                j -=1\n",
    "        return True\n",
    "            \n",
    "\n",
    "solution = Solution()\n",
    "s = \"Marge, let's \\\"[went].\\\" I await {news} telegram.\"\n",
    "# s = \"A man, a plan, a canal: Panama\"\n",
    "solution.isPalindrome(s)"
   ]
  },
  {
   "cell_type": "code",
   "execution_count": 7,
   "id": "02e9411a-1dfd-4b1e-8788-17604b80402e",
   "metadata": {},
   "outputs": [
    {
     "data": {
      "text/plain": [
       "False"
      ]
     },
     "execution_count": 7,
     "metadata": {},
     "output_type": "execute_result"
    }
   ],
   "source": [
    "s = \"0P\"\n",
    "# s = \"A man, a plan, a canal: Panama\"\n",
    "solution.isPalindrome(s)"
   ]
  },
  {
   "cell_type": "markdown",
   "id": "0d404a47-7d3e-4027-8aa2-c83e5380dab6",
   "metadata": {},
   "source": [
    "### 242. Valid Anagram"
   ]
  },
  {
   "cell_type": "markdown",
   "id": "95384753-a0f2-447f-a4bd-d177bc0f5ff3",
   "metadata": {},
   "source": [
    "Given two strings s and t, return true if t is an anagram of s, and false otherwise.\n",
    "\n",
    "An Anagram is a word or phrase formed by rearranging the letters of a different word or phrase, typically using all the original letters exactly once.\n",
    "\n",
    " \n",
    "\n",
    "Example 1:\n",
    "\n",
    "Input: s = \"anagram\", t = \"nagaram\"\n",
    "\n",
    "Output: true\n",
    "\n",
    "Example 2:\n",
    "\n",
    "Input: s = \"rat\", t = \"car\"\n",
    "\n",
    "Output: false\n",
    " \n",
    "\n",
    "Constraints:\n",
    "\n",
    "1 <= s.length, t.length <= 5 * 104\n",
    "\n",
    "s and t consist of lowercase English letters.\n"
   ]
  },
  {
   "cell_type": "code",
   "execution_count": 8,
   "id": "391b1547-362c-406a-a661-df74cc97c842",
   "metadata": {},
   "outputs": [
    {
     "data": {
      "text/plain": [
       "True"
      ]
     },
     "execution_count": 8,
     "metadata": {},
     "output_type": "execute_result"
    }
   ],
   "source": [
    "class Solution:\n",
    "    def isAnagram(self, s: str, t: str) -> bool:\n",
    "        if len(s) == len(t):\n",
    "            s_hash_map = {}\n",
    "            for s_val in s:\n",
    "                if s_val in s_hash_map.keys():\n",
    "                    s_hash_map[s_val] += 1\n",
    "                else:\n",
    "                    s_hash_map[s_val] = 1                \n",
    "            \n",
    "            t_hash_map = {key:0 for key in s_hash_map.keys()}\n",
    "            \n",
    "            for t_val in t:\n",
    "                if t_val in t_hash_map.keys():\n",
    "                    t_hash_map[t_val] +=1\n",
    "                else:\n",
    "                    return False\n",
    "            for key in t_hash_map.keys():\n",
    "                if t_hash_map[key] == 0:\n",
    "                    return False\n",
    "                elif t_hash_map[key] > s_hash_map[key]:\n",
    "                    return False\n",
    "                elif t_hash_map[key] < s_hash_map[key]:\n",
    "                    return False\n",
    "                else:\n",
    "                    return True\n",
    "        return False\n",
    "        \n",
    "solution = Solution()\n",
    "s = \"anagram\"\n",
    "t = \"nagaram\"\n",
    "solution.isAnagram(s,t)\n",
    "        "
   ]
  },
  {
   "cell_type": "code",
   "execution_count": 9,
   "id": "347501ac-1845-45e7-a576-2ff73ddf44ce",
   "metadata": {},
   "outputs": [
    {
     "data": {
      "text/plain": [
       "False"
      ]
     },
     "execution_count": 9,
     "metadata": {},
     "output_type": "execute_result"
    }
   ],
   "source": [
    "s =\"aacc\"\n",
    "t = \"ccac\"\n",
    "solution.isAnagram(s,t)"
   ]
  },
  {
   "cell_type": "code",
   "execution_count": 10,
   "id": "f57bf873-62cd-46eb-8952-d60346efab47",
   "metadata": {},
   "outputs": [
    {
     "data": {
      "text/plain": [
       "False"
      ]
     },
     "execution_count": 10,
     "metadata": {},
     "output_type": "execute_result"
    }
   ],
   "source": [
    "s =\"anagtam\"\n",
    "t =\"nbgbram\"\n",
    "solution.isAnagram(s,t)"
   ]
  },
  {
   "cell_type": "markdown",
   "id": "7fa42f58-58eb-4cbd-a47d-af560df4c77a",
   "metadata": {},
   "source": [
    "### 100. Same Tree"
   ]
  },
  {
   "cell_type": "markdown",
   "id": "53f58d85-2c96-425a-bb39-4899b8da7629",
   "metadata": {},
   "source": [
    "Given the roots of two binary trees p and q, write a function to check if they are the same or not.\n",
    "\n",
    "Two binary trees are considered the same if they are structurally identical, and the nodes have the same value.\n",
    "\n",
    " \n",
    "Example 1:\n",
    "\n",
    "Input: p = [1,2,3], q = [1,2,3]\n",
    "\n",
    "Output: true"
   ]
  },
  {
   "cell_type": "code",
   "execution_count": 11,
   "id": "35802233-646b-44f1-9c11-785571668a6f",
   "metadata": {},
   "outputs": [],
   "source": [
    "# Recursive Solution\n",
    "\n",
    "# Definition for a binary tree node.\n",
    "class TreeNode:\n",
    "    def __init__(self, val=0, left=None, right=None):\n",
    "        self.val = val\n",
    "        self.left = left\n",
    "        self.right = right\n",
    "class Solution:\n",
    "    def isSameTree(self, p: TreeNode, q: TreeNode) -> bool:\n",
    "        if (p is None) or (q is None):\n",
    "            return False\n",
    "        elif (p is None) and (q is None):\n",
    "            return True\n",
    "            \n",
    "        if p.val == q.val:\n",
    "            return self.isSameTree(p.left, q.left) and self.isSameTree(p.right, q.right)\n",
    "        return False\n",
    "        "
   ]
  },
  {
   "cell_type": "code",
   "execution_count": 12,
   "id": "83b991f1-4ebb-4943-aa48-62017c7b2568",
   "metadata": {},
   "outputs": [
    {
     "name": "stdout",
     "output_type": "stream",
     "text": [
      "CPU times: user 34 µs, sys: 1 µs, total: 35 µs\n",
      "Wall time: 40.1 µs\n"
     ]
    },
    {
     "data": {
      "text/plain": [
       "False"
      ]
     },
     "execution_count": 12,
     "metadata": {},
     "output_type": "execute_result"
    }
   ],
   "source": [
    "%%time\n",
    "\n",
    "p = TreeNode(1, TreeNode(2, TreeNode(2), TreeNode(3)), TreeNode(3))\n",
    "q = TreeNode(1, TreeNode(2), TreeNode(3))\n",
    "\n",
    "solution = Solution()\n",
    "solution.isSameTree(p,q)"
   ]
  },
  {
   "cell_type": "markdown",
   "id": "066a004c-4b6e-43fc-9ff4-cc5d3eddf436",
   "metadata": {},
   "source": [
    "### 268. Missing Number"
   ]
  },
  {
   "cell_type": "markdown",
   "id": "5fec385d-d59c-4234-8ee8-249a2a366999",
   "metadata": {},
   "source": [
    " \n",
    "Given an array nums containing n distinct numbers in the range [0, n], return the only number in the range that is missing from the array.\n",
    "\n",
    " \n",
    "\n",
    "`Example 1:`\n",
    "Input: nums = [3,0,1]\n",
    "\n",
    "Output: 2\n",
    "\n",
    "Explanation: n = 3 since there are 3 numbers, so all numbers are in the range [0,3]. 2 is the missing number in the range since it does not appear in nums.\n",
    "\n",
    "`Example 2:`\n",
    "Input: nums = [0,1]\n",
    "\n",
    "Output: 2\n",
    "\n",
    "Explanation: n = 2 since there are 2 numbers, so all numbers are in the range [0,2]. 2 is the missing number in the range since it does not appear in nums.\n",
    "\n",
    "`Example 3:`\n",
    "Input: nums = [9,6,4,2,3,5,7,0,1]\n",
    "\n",
    "Output: 8\n",
    "\n",
    "Explanation: n = 9 since there are 9 numbers, so all numbers are in the range [0,9]. 8 is the missing number in the range since it does not appear in nums.\n",
    " \n",
    "\n",
    "`Constraints:`\n",
    "\n",
    "n == nums.length\n",
    "\n",
    "1 <= n <= 104\n",
    "\n",
    "0 <= nums[i] <= n\n",
    "\n",
    "All the numbers of nums are unique."
   ]
  },
  {
   "cell_type": "code",
   "execution_count": 13,
   "id": "e8550ef6-e90a-48d9-a786-94ccf3d61299",
   "metadata": {},
   "outputs": [
    {
     "name": "stdout",
     "output_type": "stream",
     "text": [
      "2\n",
      "CPU times: user 302 µs, sys: 217 µs, total: 519 µs\n",
      "Wall time: 363 µs\n"
     ]
    }
   ],
   "source": [
    "%%time\n",
    "class Solution:\n",
    "    def missingNumber(self, nums: list[int]) -> int:\n",
    "        for nr in range(len(nums) + 1):\n",
    "            if nr in nums:\n",
    "                continue\n",
    "            return nr\n",
    "            \n",
    "solution = Solution()\n",
    "# nums =  [3,0,1]\n",
    "# nums = [9,6,4,2,3,5,7,0,1,9]\n",
    "nums = [0,1]\n",
    "print(solution.missingNumber(nums))"
   ]
  },
  {
   "cell_type": "code",
   "execution_count": 14,
   "id": "632aa5b4-7539-4a08-81ed-b49db5edd150",
   "metadata": {},
   "outputs": [
    {
     "name": "stdout",
     "output_type": "stream",
     "text": [
      "2\n",
      "CPU times: user 580 µs, sys: 608 µs, total: 1.19 ms\n",
      "Wall time: 676 µs\n"
     ]
    }
   ],
   "source": [
    "%%time\n",
    "class Solution:\n",
    "    def missingNumber(self, nums: list[int]) -> int:\n",
    "        num_set = set(nums)\n",
    "        initial_length = len(num_set)\n",
    "        for n in range(len(nums) + 1):\n",
    "            num_set.add(n)\n",
    "            if len(num_set) > initial_length:\n",
    "                return n\n",
    "            \n",
    "        \n",
    "solution = Solution()\n",
    "# nums =  [3,0,1]\n",
    "# nums = [9,6,4,2,3,5,7,0,1,9]\n",
    "nums = [0,1]\n",
    "print(solution.missingNumber(nums))"
   ]
  },
  {
   "cell_type": "code",
   "execution_count": 15,
   "id": "12d0891c-ef75-41c6-93f9-637e2279d55f",
   "metadata": {},
   "outputs": [
    {
     "data": {
      "text/plain": [
       "{0, 1}"
      ]
     },
     "execution_count": 15,
     "metadata": {},
     "output_type": "execute_result"
    }
   ],
   "source": [
    "set(nums)"
   ]
  },
  {
   "cell_type": "markdown",
   "id": "790b9d3d-a4ce-44ff-b362-b8727513907b",
   "metadata": {},
   "source": [
    "### 20. Valid Parentheses"
   ]
  },
  {
   "cell_type": "markdown",
   "id": "edcf9647-2c63-41f8-b2de-5f74fdef8eab",
   "metadata": {},
   "source": [
    "Given a string s containing just the characters '(', ')', '{', '}', '[' and ']', determine if the input string is valid.\n",
    "\n",
    "`An input string is valid if:`\n",
    "\n",
    "1. Open brackets must be closed by the same type of brackets.\n",
    "2. Open brackets must be closed in the correct order.\n",
    "3. Every close bracket has a corresponding open bracket of the same type.\n",
    " \n",
    "\n",
    "`Example 1:`\n",
    "\n",
    "Input: s = \"()\"\n",
    "\n",
    "Output: true\n",
    "\n",
    "Example 2:\n",
    "\n",
    "Input: s = \"()[]{}\"\n",
    "\n",
    "Output: true\n",
    "\n",
    "`Example 3:`\n",
    "\n",
    "Input: s = \"(]\"\n",
    "\n",
    "Output: false\n",
    " \n",
    "\n",
    "`Constraints:`\n",
    "\n",
    "1 <= s.length <= 104\n",
    "\n",
    "s consists of parentheses only '()[]{}'."
   ]
  },
  {
   "cell_type": "code",
   "execution_count": 16,
   "id": "3dafdbd2-875f-4350-ac9e-7bdada9351f0",
   "metadata": {},
   "outputs": [
    {
     "data": {
      "text/plain": [
       "False"
      ]
     },
     "execution_count": 16,
     "metadata": {},
     "output_type": "execute_result"
    }
   ],
   "source": [
    "class Solution:\n",
    "    def isValid(self, s: str) -> bool:\n",
    "        # using a stack data structure for the solution\n",
    "        stack = []\n",
    "        open_close_hashmap = {\n",
    "            ')':'(',\n",
    "            '}':'{',\n",
    "            ']':'['\n",
    "        }\n",
    "        for para in s:\n",
    "            # if got closed paranthesis, check if the paranthesis has matching open paranthesis\n",
    "            if para in open_close_hashmap:\n",
    "                # if stack is not empty\n",
    "                # and the last value of stack is equal to the opening paranthesis\n",
    "                if stack and stack[-1] == open_close_hashmap[para]:\n",
    "                    stack.pop()\n",
    "                else:\n",
    "                    return False\n",
    "            else:\n",
    "                # keep going if you got open paranthesis\n",
    "                stack.append(para)\n",
    "        # return true if our stack is empty, else return false\n",
    "        return True if not stack else False\n",
    "\n",
    "solution = Solution()\n",
    "s = \"}{{}\"\n",
    "solution.isValid(s)"
   ]
  },
  {
   "cell_type": "markdown",
   "id": "1d8ba7ac-ccbd-46c8-8760-5ffbca7c4144",
   "metadata": {},
   "source": [
    "## 21. Merge Two Sorted Lists (WIP) "
   ]
  },
  {
   "cell_type": "markdown",
   "id": "16c806d4-fc66-4218-a8c4-6ff2a2d4c941",
   "metadata": {},
   "source": [
    "You are given the heads of two sorted linked lists list1 and list2.\n",
    "\n",
    "Merge the two lists into one sorted list. The list should be made by splicing together the nodes of the first two lists.\n",
    "\n",
    "Return the head of the merged linked list.\n",
    "\n",
    "`Example 1:`\n",
    "![](images/merge-two-sorted-list.jpg)\n",
    "\n",
    "Input: list1 = [1,2,4], list2 = [1,3,4]\n",
    "\n",
    "Output: [1,1,2,3,4,4]\n",
    "\n",
    "`Example 2:`\n",
    "\n",
    "Input: list1 = [], list2 = []\n",
    "\n",
    "Output: []\n",
    "\n",
    "`Example 3:`\n",
    "\n",
    "Input: list1 = [], list2 = [0]\n",
    "\n",
    "Output: [0]\n",
    " \n",
    "\n",
    "`Constraints:`\n",
    "\n",
    "The number of nodes in both lists is in the range [0, 50].\n",
    "\n",
    "-100 <= Node.val <= 100\n"
   ]
  },
  {
   "cell_type": "code",
   "execution_count": 17,
   "id": "fc0dd223-e124-4f33-aa59-38423373d7d7",
   "metadata": {},
   "outputs": [],
   "source": [
    "# # Definition for singly-linked list.\n",
    "# class ListNode:\n",
    "#     def __init__(self, val=0, next=None):\n",
    "#         self.val = val\n",
    "#         self.next = next\n",
    "# class Solution:\n",
    "#     def mergeTwoLists(self, list1: ListNode, list2: ListNode) -> ListNode:\n",
    "#         merged = ListNode()\n",
    "#         tail = merged\n",
    "\n",
    "#         i = 0\n",
    "#         j = 0\n",
    "#         while list1 and list2: # both not empty\n",
    "#             if list1[i].val <list2[i].val:\n",
    "#                 tail.next = list1[i]\n",
    "#                 i +=1\n",
    "#             else:\n",
    "#                 tail.next = list2[j]\n",
    "#                 j +=1\n",
    "#             tail = tail.next\n",
    "#         if list2:\n",
    "#             tail.next = list2[0]\n",
    "#         elif list1:\n",
    "#             tail.next = list1[0]\n",
    "\n",
    "#         return merged.next\n",
    "             \n",
    "\n",
    "# solution = Solution()\n",
    "# four = ListNode(4)\n",
    "# three = ListNode(3, next=four)\n",
    "# two = ListNode(2, next=three)\n",
    "# one = ListNode(1, next=two)\n",
    "# list1 = [one,two,three]\n",
    "# list2 = [one,three,four]\n",
    "# solution.mergeTwoLists(list1, list2)"
   ]
  },
  {
   "cell_type": "code",
   "execution_count": null,
   "id": "4f48d3bd-3d66-459d-bc32-9fbc2a4492a9",
   "metadata": {},
   "outputs": [],
   "source": []
  },
  {
   "cell_type": "markdown",
   "id": "5098b20c-f051-4741-bcea-34f62ab19f44",
   "metadata": {},
   "source": [
    "## 141. Linked List Cycle\n",
    "[LeetCode link](https://leetcode.com/problems/linked-list-cycle/description/?envType=problem-list-v2&envId=oizxjoit)\n",
    "\n",
    "Given head, the head of a linked list, determine if the linked list has a cycle in it.\n",
    "\n",
    "There is a cycle in a linked list if there is some node in the list that can be reached again by continuously following the next pointer. Internally, pos is used to denote the index of the node that tail's next pointer is connected to. Note that pos is not passed as a parameter.\n",
    "\n",
    "Return true if there is a cycle in the linked list. Otherwise, return false."
   ]
  },
  {
   "cell_type": "code",
   "execution_count": 18,
   "id": "34903e7b-76d9-4a91-8722-736eedb94b02",
   "metadata": {},
   "outputs": [
    {
     "data": {
      "text/plain": [
       "False"
      ]
     },
     "execution_count": 18,
     "metadata": {},
     "output_type": "execute_result"
    }
   ],
   "source": [
    "# Definition for singly-linked list.\n",
    "class ListNode:\n",
    "    def __init__(self, x):\n",
    "        self.val = x\n",
    "        self.next = None\n",
    "\n",
    "class Solution:\n",
    "    def hasCycle(self, head: ListNode) -> bool:\n",
    "        cycle_set = set()\n",
    "        next_node = head\n",
    "        \n",
    "        while next_node:\n",
    "            if next_node in cycle_set:\n",
    "                return True\n",
    "            else:\n",
    "                cycle_set.add(next_node)\n",
    "            if next_node.next is None:\n",
    "                break\n",
    "            next_node = next_node.next\n",
    "        return False\n",
    "\n",
    "solution = Solution()\n",
    "four = ListNode(4)\n",
    "three = ListNode(3)\n",
    "two = ListNode(2)\n",
    "one = ListNode(1)\n",
    "one.next = two\n",
    "two.next=three\n",
    "three.next=four\n",
    "# four.next=one\n",
    "\n",
    "solution.hasCycle(one)"
   ]
  },
  {
   "cell_type": "markdown",
   "id": "9a510a30-765b-4d97-85ee-d20ae8101a63",
   "metadata": {},
   "source": [
    "## 572. Subtree of Another Tree\n",
    "[Leetcode Link](https://leetcode.com/problems/subtree-of-another-tree/description/?envType=problem-list-v2&envId=oizxjoit)"
   ]
  },
  {
   "cell_type": "code",
   "execution_count": 20,
   "id": "db10bcf0-9604-4132-b212-9c84503fe795",
   "metadata": {
    "scrolled": true
   },
   "outputs": [],
   "source": [
    "# # Definition for a binary tree node.\n",
    "# # class TreeNode:\n",
    "# #     def __init__(self, val=0, left=None, right=None):\n",
    "# #         self.val = val\n",
    "# #         self.left = left\n",
    "# #         self.right = right\n",
    "# class Solution:\n",
    "#     def isSubtree(self, root: Optional[TreeNode], subRoot: Optional[TreeNode]) -> bool:\n",
    "#         if not root:\n",
    "#             return False\n",
    "    \n",
    "#         if self.sameTree(root, subRoot):\n",
    "#             return True\n",
    "                \n",
    "#         return self.isSubtree(root.left, subRoot) or self.has_subtree(root.right, subRoot)\n",
    "    \n",
    "#         # return self.isSubtree(root, subRoot)\n",
    "    \n",
    "#     def sameTree(self, tree_one, tree_two):\n",
    "#         if not tree_one and not tree_two:\n",
    "#             return True\n",
    "\n",
    "#         if (tree_one and not tree_two) or (tree_two and not tree_one):\n",
    "#             return False\n",
    "\n",
    "#         if tree_one.val != tree_two.val:\n",
    "#             return False\n",
    "\n",
    "#         return sameTree(tree_one.left, tree_two.left) and sameTree(tree_one.right, tree_two.right)"
   ]
  },
  {
   "cell_type": "markdown",
   "id": "05f65a8f-cedc-4fbc-b8bc-6bf072ba1f2e",
   "metadata": {},
   "source": [
    "## 190. Reverse Bits\n",
    "[Leetcode Link](https://leetcode.com/problems/reverse-bits/description/?envType=problem-list-v2&envId=oizxjoit)"
   ]
  },
  {
   "cell_type": "code",
   "execution_count": 65,
   "id": "fb41e7aa-5c48-407d-a75c-5b792b75270e",
   "metadata": {},
   "outputs": [
    {
     "data": {
      "text/plain": [
       "3221225471"
      ]
     },
     "execution_count": 65,
     "metadata": {},
     "output_type": "execute_result"
    }
   ],
   "source": [
    "# class Solution:\n",
    "#     def reverseBits(self, n: int) -> int:\n",
    "#         result = 0 # setting 0000..0000, 32 bits\n",
    "\n",
    "#         for i in range(32): # because we have 32 bits\n",
    "#             bit = (n>>i) & 1 \n",
    "#             result = result | (bit << (31-i))\n",
    "#         return result\n",
    "\n",
    "class Solution:\n",
    "    def reverseBits(self, n: int) -> int:\n",
    "        output = 0\n",
    "        n = str(bin(n)[2:])\n",
    "        for bit_number in range(1, 33, 1):\n",
    "            output = output + (2**(32-bit_number) * int(n[-(bit_number)]))\n",
    "\n",
    "        return output\n",
    "solution = Solution()\n",
    "n = 4294967293\n",
    "solution.reverseBits(n)"
   ]
  },
  {
   "cell_type": "markdown",
   "id": "e5c6f598-f8f3-41e7-813c-0192aaca6a7a",
   "metadata": {},
   "source": [
    "3221225471"
   ]
  },
  {
   "cell_type": "code",
   "execution_count": 57,
   "id": "cbf9e0af-212d-48d1-9b62-bfea567874f7",
   "metadata": {},
   "outputs": [
    {
     "data": {
      "text/plain": [
       "'1'"
      ]
     },
     "execution_count": 57,
     "metadata": {},
     "output_type": "execute_result"
    }
   ],
   "source": [
    "str(bin(n))[2:][-32]"
   ]
  },
  {
   "cell_type": "markdown",
   "id": "131af9c2-92ba-4d77-8d83-839241afcf59",
   "metadata": {},
   "source": [
    "## 139. Word Break\n",
    "[Leetcode Link](https://leetcode.com/problems/longest-palindromic-substring/description/?envType=problem-list-v2&envId=oizxjoit)"
   ]
  },
  {
   "cell_type": "code",
   "execution_count": 29,
   "id": "3f71a0f5-a9a0-4fab-8722-bcff9a576335",
   "metadata": {},
   "outputs": [],
   "source": [
    "class Solution:\n",
    "    def wordBreak(self, s: str, wordDict: list[str]) -> bool:\n",
    "        dp = [False] * (len(s) + 1)\n",
    "        dp[len(s)] = True\n",
    "\n",
    "        for i in range(len(s) -1, -1, -1):\n",
    "            for w in wordDict:\n",
    "                if (i + len(w) <=len(s) and s[i:i+len(w)] == w:\n",
    "                    dp[i] = dp[i + len(w)]\n",
    "                if dp[i]:\n",
    "                    break\n",
    "        return dp[0]\n",
    "solution = Solution()\n",
    "s = 'leetcode'\n",
    "wordDict = ['leet','code']\n",
    "solution.wordBreak(s, wordDict)"
   ]
  },
  {
   "cell_type": "markdown",
   "id": "d38f0411-c0fb-4e66-bad0-a2cef613833b",
   "metadata": {},
   "source": [
    "Input: s = \"leetcode\", wordDict = [\"leet\",\"code\"]\n",
    "\n",
    "Output: true"
   ]
  },
  {
   "cell_type": "markdown",
   "id": "5da2f615-8875-4bff-b1ad-9df8a0a23636",
   "metadata": {},
   "source": [
    "## 338. Counting Bits\n",
    "[Leetcode Link](https://leetcode.com/problems/counting-bits/description/?envType=problem-list-v2&envId=oizxjoit&)\n",
    "\n",
    "Given an integer n, return an array ans of length n + 1 \n",
    "\n",
    "such that for each i (0 <= i <= n), \n",
    "\n",
    "ans[i] is the number of 1's in the binary representation of i."
   ]
  },
  {
   "cell_type": "code",
   "execution_count": 29,
   "id": "4bd76400-88fe-4ae4-8475-c81020f988c0",
   "metadata": {},
   "outputs": [
    {
     "data": {
      "text/plain": [
       "[0, 1, 1, 2, 1, 2]"
      ]
     },
     "execution_count": 29,
     "metadata": {},
     "output_type": "execute_result"
    }
   ],
   "source": [
    "class Solution:\n",
    "    def countBits(self, n: int) -> list[int]:\n",
    "        n_list = [str(bin(i)[2:]) for i in range(n + 1)]\n",
    "        final_list = [0] * len(n_list)\n",
    "        for i in range(len(n_dict)):\n",
    "            for bit in n_dict[i]:\n",
    "                if bit == '1':\n",
    "                    final_list[i] +=1\n",
    "        return final_list\n",
    "solution = Solution()\n",
    "n = 5\n",
    "solution.countBits(n)"
   ]
  },
  {
   "cell_type": "code",
   "execution_count": 24,
   "id": "178f2bcd-b74d-4f2a-b3e0-862dae5edd5e",
   "metadata": {},
   "outputs": [
    {
     "data": {
      "text/plain": [
       "['0', '1', '10', '11', '100', '101']"
      ]
     },
     "execution_count": 24,
     "metadata": {},
     "output_type": "execute_result"
    }
   ],
   "source": [
    "n_list = [str(bin(i)[2:]) for i in range(n + 1)]\n",
    "n_list"
   ]
  },
  {
   "cell_type": "markdown",
   "id": "cdd9fb9f-7a5e-4b64-870c-192ee8698f7a",
   "metadata": {},
   "source": [
    "## 70. Clmbing Stairs"
   ]
  },
  {
   "cell_type": "code",
   "execution_count": 33,
   "id": "51f565cb-de0c-4093-a1ba-c21c8d628709",
   "metadata": {},
   "outputs": [
    {
     "data": {
      "text/plain": [
       "987"
      ]
     },
     "execution_count": 33,
     "metadata": {},
     "output_type": "execute_result"
    }
   ],
   "source": [
    "class Solution:\n",
    "    def climbStairs(self, n: int) -> int:\n",
    "        one_step, two_step = 1,1\n",
    "\n",
    "        for i in range(n-1):\n",
    "            temp = one_step\n",
    "            one_step = one_step + two_step\n",
    "            two_step = temp\n",
    "        return one_step\n",
    "        \n",
    "solution = Solution()\n",
    "n = 5\n",
    "solution.climbStairs(15)"
   ]
  },
  {
   "cell_type": "markdown",
   "id": "1ff57726-bbbc-46b3-90f9-3501aa406478",
   "metadata": {},
   "source": [
    "## 191. Number of 1 Bits\n",
    "\n",
    "[Leetcode Link](https://leetcode.com/problems/number-of-1-bits/description/?envType=problem-list-v2&envId=oizxjoit&)"
   ]
  },
  {
   "cell_type": "code",
   "execution_count": 55,
   "id": "daada82f-a305-4578-a9d5-b47ad4afa06d",
   "metadata": {},
   "outputs": [
    {
     "name": "stdout",
     "output_type": "stream",
     "text": [
      "solution1: 3\n",
      "solution2: 3\n"
     ]
    }
   ],
   "source": [
    "class Solution1:\n",
    "    def hammingWeight(self, n: int) -> int:\n",
    "        n_bin = str(bin(n))[2:]\n",
    "\n",
    "        total_1 = 0\n",
    "        for bit in n_bin:\n",
    "            if bit == '1':\n",
    "                total_1 +=1\n",
    "                \n",
    "        return total_1\n",
    "\n",
    "#solution 2\n",
    "class Solution2:\n",
    "    def hammingWeight(self, n: int) -> int:\n",
    "        return str(bin(n))[2:].count('1')\n",
    "\n",
    "\n",
    "solution1 = Solution1()\n",
    "solution2 = Solution2()\n",
    "n = 5\n",
    "print('solution1:', solution1.hammingWeight(11))\n",
    "print('solution2:', solution2.hammingWeight(11))"
   ]
  },
  {
   "cell_type": "code",
   "execution_count": 52,
   "id": "35e8c25f-77d7-4388-b462-67faf384031d",
   "metadata": {},
   "outputs": [
    {
     "data": {
      "text/plain": [
       "4"
      ]
     },
     "execution_count": 52,
     "metadata": {},
     "output_type": "execute_result"
    }
   ],
   "source": [
    "'aaaa'.count('a')"
   ]
  },
  {
   "cell_type": "code",
   "execution_count": null,
   "id": "6982e077-6726-4a0b-a4d6-3f620caafe71",
   "metadata": {},
   "outputs": [],
   "source": []
  }
 ],
 "metadata": {
  "kernelspec": {
   "display_name": "Python 3 (ipykernel)",
   "language": "python",
   "name": "python3"
  },
  "language_info": {
   "codemirror_mode": {
    "name": "ipython",
    "version": 3
   },
   "file_extension": ".py",
   "mimetype": "text/x-python",
   "name": "python",
   "nbconvert_exporter": "python",
   "pygments_lexer": "ipython3",
   "version": "3.10.14"
  }
 },
 "nbformat": 4,
 "nbformat_minor": 5
}
