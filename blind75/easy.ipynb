{
 "cells": [
  {
   "cell_type": "markdown",
   "id": "1a8d7af5-0388-4575-b52b-6c4cba42e144",
   "metadata": {},
   "source": [
    "## Easy"
   ]
  },
  {
   "cell_type": "markdown",
   "id": "47694c8c-79cf-418b-ad6a-25969b9a7e92",
   "metadata": {},
   "source": [
    "### Two Sum "
   ]
  },
  {
   "cell_type": "markdown",
   "id": "ba5c3076-e625-4e90-b8c4-e11b0fad6e21",
   "metadata": {},
   "source": [
    "Given an array of integers `nums` and an integer `target`, return indices of the two numbers such that they add up to `target`.\n",
    "\n",
    "You may assume that each input would have exactly one solution, and you may not use the same element twice.\n",
    "\n",
    "You can return the answer in any order.\n",
    "\n",
    "Example 1:\n",
    "\n",
    "Input: nums = [2,7,11,15], target = 9\n",
    "\n",
    "Output: [0,1]\n",
    "\n",
    "Explanation: Because nums[0] + nums[1] == 9, we return [0, 1].\n",
    "\n",
    "Example 2:\n",
    "\n",
    "Input: nums = [3,2,4], target = 6\n",
    "\n",
    "Output: [1,2]\n",
    "\n",
    "Example 3:\n",
    "\n",
    "Input: nums = [3,3], target = 6\\n\n",
    "\n",
    "Output: [0,1]\n",
    "\n",
    "**Constraints:**\n",
    "\n",
    "- 2 <= nums.length <= 10^4\n",
    "- -10^9 <= nums[i] <= 10^9\n",
    "- -10^9 <= target <= 109\n",
    "- Only one valid answer exists. **we dont have to worry about no solution or multiple solutions**"
   ]
  },
  {
   "cell_type": "code",
   "execution_count": 21,
   "id": "16335c68-cf98-4e78-98c4-808050cfeb6c",
   "metadata": {},
   "outputs": [
    {
     "name": "stdout",
     "output_type": "stream",
     "text": [
      "{3: 7, 2: 1, 4: 2, 8: 3, 7: 4, 5: 5, 0: 6, 6: 8}\n",
      "None\n",
      "CPU times: user 371 µs, sys: 195 µs, total: 566 µs\n",
      "Wall time: 461 µs\n"
     ]
    }
   ],
   "source": [
    "%%time\n",
    "class Solution:        \n",
    "    def twoSum(self, nums: list[int], target: int) -> list[int]:\n",
    "        value_index_hash = {}\n",
    "        for i in range(len(nums)):\n",
    "            if (target - nums[i]) in value_index_hash.keys():\n",
    "                return [value_index_hash[target - nums[i]], i]\n",
    "            else:\n",
    "                value_index_hash[nums[i]] = i\n",
    "        print(value_index_hash)\n",
    "                \n",
    "            \n",
    "\n",
    "        \n",
    "\n",
    "solution = Solution()\n",
    "nums = [3,2,4,8,7,5,0,3,6]\n",
    "target = 100\n",
    "\n",
    "print(solution.twoSum(nums, target))"
   ]
  },
  {
   "cell_type": "markdown",
   "id": "e0bb892a-0807-419b-b5a7-1d2323f75fa3",
   "metadata": {},
   "source": [
    "### 121. Best Time to buy and sell stock"
   ]
  },
  {
   "cell_type": "markdown",
   "id": "08ebb1c9-aa5d-4cf4-a41b-19b6d00c8dbe",
   "metadata": {},
   "source": [
    "You are given an array prices where prices[i] is the price of a given stock on the ith day.\n",
    "\n",
    "You want to maximize your profit by choosing a single day to buy one stock and choosing a different day in the future to sell that stock.\n",
    "\n",
    "Return the maximum profit you can achieve from this transaction. If you cannot achieve any profit, return 0.\n",
    "\n",
    " \n",
    "\n",
    "Example 1:\n",
    "\n",
    "Input: prices = [7,1,5,3,6,4]\n",
    "\n",
    "Output: 5\n",
    "\n",
    "Explanation: Buy on day 2 (price = 1) and sell on day 5 (price = 6), profit = 6-1 = 5.\n",
    "\n",
    "Note that buying on day 2 and selling on day 1 is not allowed because you must buy before you sell.\n",
    "\n",
    "Example 2:\n",
    "\n",
    "Input: prices = [7,6,4,3,1]\n",
    "\n",
    "Output: 0\n",
    "\n",
    "Explanation: In this case, no transactions are done and the max profit = 0.\n",
    " \n",
    "\n",
    "Constraints:\n",
    "\n",
    "1 <= prices.length <= 105\n",
    "\n",
    "0 <= prices[i] <= 104"
   ]
  },
  {
   "cell_type": "code",
   "execution_count": 22,
   "id": "d704b6a4-af21-4576-901c-d47c1cc59668",
   "metadata": {},
   "outputs": [
    {
     "name": "stdout",
     "output_type": "stream",
     "text": [
      "6\n",
      "CPU times: user 116 µs, sys: 61 µs, total: 177 µs\n",
      "Wall time: 149 µs\n"
     ]
    }
   ],
   "source": [
    "%%time\n",
    "class Solution:\n",
    "    def maxProfit(self, prices: list[int]) -> int:\n",
    "        l, r = 0, 1\n",
    "        cur_profit = 0\n",
    "\n",
    "        while r < len(prices):\n",
    "            if prices[l] < prices[r]:\n",
    "                profit = prices[r] - prices[l]\n",
    "                cur_profit = max(cur_profit, profit)\n",
    "            else:\n",
    "                l = r\n",
    "            r = r+1\n",
    "        return cur_profit\n",
    "\n",
    "solution = Solution()\n",
    "prices = [3,2,4,8,7,5,0,3,6]\n",
    "# prices = [7,6,4,3,1]\n",
    "# prices = [7,1,5,3,6,4]\n",
    "\n",
    "\n",
    "print(solution.maxProfit(prices))\n",
    "        "
   ]
  },
  {
   "cell_type": "markdown",
   "id": "cd1cd9d4-6c73-465a-bc05-c1d5032b13de",
   "metadata": {},
   "source": [
    "### 217. Contains Duplicate "
   ]
  },
  {
   "cell_type": "markdown",
   "id": "68063f30-f6bc-40c2-bcd4-65bf13b8cc85",
   "metadata": {},
   "source": [
    "Given an integer array nums, `return true` if any value appears at least `twice` in the array, and return false if every element is distinct.\n",
    "\n",
    "Example 1:\n",
    "\n",
    "Input: nums = [1,2,3,1]\n",
    "\n",
    "Output: true\n",
    "\n",
    "Example 2:\n",
    "\n",
    "Input: nums = [1,2,3,4]\n",
    "\n",
    "Output: false\n",
    "\n",
    "Example 3:\n",
    "\n",
    "Input: nums = [1,1,1,3,3,4,3,2,4,2]\n",
    "\n",
    "Output: true\n",
    " \n",
    "\n",
    "Constraints:\n",
    "\n",
    "`1 <= nums.length <= 105`\n",
    "\n",
    "`-109 <= nums[i] <= 109`\n"
   ]
  },
  {
   "cell_type": "code",
   "execution_count": 23,
   "id": "71fd524c-e646-4a5b-b70e-25fcf6ea3b6e",
   "metadata": {},
   "outputs": [
    {
     "data": {
      "text/plain": [
       "False"
      ]
     },
     "execution_count": 23,
     "metadata": {},
     "output_type": "execute_result"
    }
   ],
   "source": [
    "class Solution:\n",
    "    def containsDuplicate(self, nums: list[int]) -> bool:\n",
    "        value_set = {}\n",
    "        for n in nums:\n",
    "            if n in value_set.keys():\n",
    "                return True\n",
    "            else:\n",
    "                value_set[n] = 1\n",
    "        return False\n",
    "        \n",
    "solution = Solution()\n",
    "nums = [1,2,3,1]\n",
    "nums = [1,1,1,3,3,4,3,2,4,2]\n",
    "nums = [1,2,3,4]\n",
    "solution.containsDuplicate(nums)"
   ]
  },
  {
   "cell_type": "code",
   "execution_count": 24,
   "id": "5c3cd5cd-1cd8-4ed3-b0d8-0c43ef0efed3",
   "metadata": {},
   "outputs": [
    {
     "name": "stdout",
     "output_type": "stream",
     "text": [
      "{3, 4, 5}\n"
     ]
    },
    {
     "data": {
      "text/plain": [
       "True"
      ]
     },
     "execution_count": 24,
     "metadata": {},
     "output_type": "execute_result"
    }
   ],
   "source": [
    "value_set = {3,4,5}\n",
    "value_set.add(5)\n",
    "print(value_set)\n",
    "5 in value_set"
   ]
  },
  {
   "cell_type": "markdown",
   "id": "8f7dde9c-6b13-45af-bcf7-2949d3388302",
   "metadata": {},
   "source": [
    "### 125. Valid Palindrome"
   ]
  },
  {
   "cell_type": "markdown",
   "id": "efbf480d-8b42-4862-a4c5-a732da929fcf",
   "metadata": {},
   "source": [
    "A phrase is a palindrome if, after converting all uppercase letters into lowercase letters and removing all non-alphanumeric characters, it reads the same forward and backward. Alphanumeric characters include letters and numbers.\n",
    "\n",
    "Given a string s, return true if it is a palindrome, or false otherwise.\n",
    "\n",
    " \n",
    "\n",
    "Example 1:\n",
    "\n",
    "Input: s = \"A man, a plan, a canal: Panama\"\n",
    "\n",
    "Output: true\n",
    "\n",
    "Explanation: \"amanaplanacanalpanama\" is a palindrome.\n",
    "\n",
    "Example 2:\n",
    "\n",
    "Input: s = \"race a car\"\n",
    "\n",
    "Output: false\n",
    "\n",
    "Explanation: \"raceacar\" is not a palindrome.\n",
    "\n",
    "Example 3:\n",
    "\n",
    "Input: s = \" \"\n",
    "\n",
    "Output: true\n",
    "\n",
    "Explanation: s is an empty string \"\" after removing non-alphanumeric characters.\n",
    "\n",
    "Since an empty string reads the same forward and backward, it is a palindrome.\n",
    " \n",
    "Constraints:\n",
    "\n",
    "1 <= s.length <= 2 * 105\n",
    "\n",
    "s consists only of printable ASCII characters."
   ]
  },
  {
   "cell_type": "code",
   "execution_count": 25,
   "id": "f09aedef-054c-418c-a44c-9f8d316804d0",
   "metadata": {},
   "outputs": [
    {
     "data": {
      "text/plain": [
       "True"
      ]
     },
     "execution_count": 25,
     "metadata": {},
     "output_type": "execute_result"
    }
   ],
   "source": [
    "class Solution:\n",
    "    def isPalindrome(self, s: str) -> bool:\n",
    "        modified_str = ''\n",
    "        for c in s:\n",
    "            if c.isalnum():\n",
    "                modified_str+=c.lower()\n",
    "        return modified_str == modified_str[::-1]\n",
    "            \n",
    "\n",
    "solution = Solution()\n",
    "s = \"Marge, let's \\\"[went].\\\" I await {news} telegram.\"\n",
    "# s = \"A man, a plan, a canal: Panama\"\n",
    "solution.isPalindrome(s)"
   ]
  },
  {
   "cell_type": "code",
   "execution_count": 26,
   "id": "f78f735a-e44e-46e8-bff6-a9e3ebf4cb84",
   "metadata": {},
   "outputs": [
    {
     "data": {
      "text/plain": [
       "True"
      ]
     },
     "execution_count": 26,
     "metadata": {},
     "output_type": "execute_result"
    }
   ],
   "source": [
    "# two pointer solution\n",
    "\n",
    "class Solution:\n",
    "    def isPalindrome(self, s: str) -> bool:\n",
    "        modified_str = ''\n",
    "        #remove all non alphanumeric values\n",
    "        # complexity of this algorithm is O(n)\n",
    "        for c in s:\n",
    "            if c.isalnum():\n",
    "                modified_str+=c.lower()\n",
    "        i = 0\n",
    "        j = len(modified_str) - 1\n",
    "\n",
    "        # check the first index value and last index value simultaneously\n",
    "        # stop in the middle - and if middle reached then palindrome true\n",
    "        # else palindrome false\n",
    "        # complexity of this algorithm is O(n/2) = O(n)\n",
    "        while i < j:\n",
    "            if modified_str[i] !=modified_str[j]:\n",
    "                return False\n",
    "            else:\n",
    "                i +=1\n",
    "                j -=1\n",
    "        return True\n",
    "            \n",
    "\n",
    "solution = Solution()\n",
    "s = \"Marge, let's \\\"[went].\\\" I await {news} telegram.\"\n",
    "# s = \"A man, a plan, a canal: Panama\"\n",
    "solution.isPalindrome(s)"
   ]
  },
  {
   "cell_type": "code",
   "execution_count": 27,
   "id": "02e9411a-1dfd-4b1e-8788-17604b80402e",
   "metadata": {},
   "outputs": [
    {
     "data": {
      "text/plain": [
       "False"
      ]
     },
     "execution_count": 27,
     "metadata": {},
     "output_type": "execute_result"
    }
   ],
   "source": [
    "s = \"0P\"\n",
    "# s = \"A man, a plan, a canal: Panama\"\n",
    "solution.isPalindrome(s)"
   ]
  },
  {
   "cell_type": "markdown",
   "id": "0d404a47-7d3e-4027-8aa2-c83e5380dab6",
   "metadata": {},
   "source": [
    "### 242. Valid Anagram"
   ]
  },
  {
   "cell_type": "markdown",
   "id": "95384753-a0f2-447f-a4bd-d177bc0f5ff3",
   "metadata": {},
   "source": [
    "Given two strings s and t, return true if t is an anagram of s, and false otherwise.\n",
    "\n",
    "An Anagram is a word or phrase formed by rearranging the letters of a different word or phrase, typically using all the original letters exactly once.\n",
    "\n",
    " \n",
    "\n",
    "Example 1:\n",
    "\n",
    "Input: s = \"anagram\", t = \"nagaram\"\n",
    "\n",
    "Output: true\n",
    "\n",
    "Example 2:\n",
    "\n",
    "Input: s = \"rat\", t = \"car\"\n",
    "\n",
    "Output: false\n",
    " \n",
    "\n",
    "Constraints:\n",
    "\n",
    "1 <= s.length, t.length <= 5 * 104\n",
    "\n",
    "s and t consist of lowercase English letters.\n"
   ]
  },
  {
   "cell_type": "code",
   "execution_count": 28,
   "id": "391b1547-362c-406a-a661-df74cc97c842",
   "metadata": {},
   "outputs": [
    {
     "data": {
      "text/plain": [
       "True"
      ]
     },
     "execution_count": 28,
     "metadata": {},
     "output_type": "execute_result"
    }
   ],
   "source": [
    "class Solution:\n",
    "    def isAnagram(self, s: str, t: str) -> bool:\n",
    "        if len(s) == len(t):\n",
    "            s_hash_map = {}\n",
    "            for s_val in s:\n",
    "                if s_val in s_hash_map.keys():\n",
    "                    s_hash_map[s_val] += 1\n",
    "                else:\n",
    "                    s_hash_map[s_val] = 1                \n",
    "            \n",
    "            t_hash_map = {key:0 for key in s_hash_map.keys()}\n",
    "            \n",
    "            for t_val in t:\n",
    "                if t_val in t_hash_map.keys():\n",
    "                    t_hash_map[t_val] +=1\n",
    "                else:\n",
    "                    return False\n",
    "            for key in t_hash_map.keys():\n",
    "                if t_hash_map[key] == 0:\n",
    "                    return False\n",
    "                elif t_hash_map[key] > s_hash_map[key]:\n",
    "                    return False\n",
    "                elif t_hash_map[key] < s_hash_map[key]:\n",
    "                    return False\n",
    "                else:\n",
    "                    return True\n",
    "        return False\n",
    "        \n",
    "solution = Solution()\n",
    "s = \"anagram\"\n",
    "t = \"nagaram\"\n",
    "solution.isAnagram(s,t)\n",
    "        "
   ]
  },
  {
   "cell_type": "code",
   "execution_count": 29,
   "id": "347501ac-1845-45e7-a576-2ff73ddf44ce",
   "metadata": {},
   "outputs": [
    {
     "data": {
      "text/plain": [
       "False"
      ]
     },
     "execution_count": 29,
     "metadata": {},
     "output_type": "execute_result"
    }
   ],
   "source": [
    "s =\"aacc\"\n",
    "t = \"ccac\"\n",
    "solution.isAnagram(s,t)"
   ]
  },
  {
   "cell_type": "code",
   "execution_count": 30,
   "id": "f57bf873-62cd-46eb-8952-d60346efab47",
   "metadata": {},
   "outputs": [
    {
     "data": {
      "text/plain": [
       "False"
      ]
     },
     "execution_count": 30,
     "metadata": {},
     "output_type": "execute_result"
    }
   ],
   "source": [
    "s =\"anagtam\"\n",
    "t =\"nbgbram\"\n",
    "solution.isAnagram(s,t)"
   ]
  },
  {
   "cell_type": "markdown",
   "id": "7fa42f58-58eb-4cbd-a47d-af560df4c77a",
   "metadata": {},
   "source": [
    "### 100. Same Tree"
   ]
  },
  {
   "cell_type": "markdown",
   "id": "53f58d85-2c96-425a-bb39-4899b8da7629",
   "metadata": {},
   "source": [
    "Given the roots of two binary trees p and q, write a function to check if they are the same or not.\n",
    "\n",
    "Two binary trees are considered the same if they are structurally identical, and the nodes have the same value.\n",
    "\n",
    " \n",
    "Example 1:\n",
    "\n",
    "Input: p = [1,2,3], q = [1,2,3]\n",
    "\n",
    "Output: true"
   ]
  },
  {
   "cell_type": "code",
   "execution_count": 131,
   "id": "35802233-646b-44f1-9c11-785571668a6f",
   "metadata": {},
   "outputs": [],
   "source": [
    "# Recursive Solution\n",
    "\n",
    "# Definition for a binary tree node.\n",
    "class TreeNode:\n",
    "    def __init__(self, val=0, left=None, right=None):\n",
    "        self.val = val\n",
    "        self.left = left\n",
    "        self.right = right\n",
    "class Solution:\n",
    "    def isSameTree(self, p: TreeNode, q: TreeNode) -> bool:\n",
    "        if (p is None) or (q is None):\n",
    "            return False\n",
    "        elif (p is None) and (q is None):\n",
    "            return True\n",
    "            \n",
    "        if p.val == q.val:\n",
    "            return self.isSameTree(p.left, q.left) and self.isSameTree(p.right, q.right)\n",
    "        return False\n",
    "        "
   ]
  },
  {
   "cell_type": "code",
   "execution_count": 132,
   "id": "83b991f1-4ebb-4943-aa48-62017c7b2568",
   "metadata": {},
   "outputs": [
    {
     "name": "stdout",
     "output_type": "stream",
     "text": [
      "CPU times: user 28 µs, sys: 0 ns, total: 28 µs\n",
      "Wall time: 31.9 µs\n"
     ]
    },
    {
     "data": {
      "text/plain": [
       "False"
      ]
     },
     "execution_count": 132,
     "metadata": {},
     "output_type": "execute_result"
    }
   ],
   "source": [
    "%%time\n",
    "\n",
    "p = TreeNode(1, TreeNode(2, TreeNode(2), TreeNode(3)), TreeNode(3))\n",
    "q = TreeNode(1, TreeNode(2), TreeNode(3))\n",
    "\n",
    "solution = Solution()\n",
    "solution.isSameTree(p,q)"
   ]
  },
  {
   "cell_type": "markdown",
   "id": "066a004c-4b6e-43fc-9ff4-cc5d3eddf436",
   "metadata": {},
   "source": [
    "### 268. Missing Number"
   ]
  },
  {
   "cell_type": "markdown",
   "id": "5fec385d-d59c-4234-8ee8-249a2a366999",
   "metadata": {},
   "source": [
    " \n",
    "Given an array nums containing n distinct numbers in the range [0, n], return the only number in the range that is missing from the array.\n",
    "\n",
    " \n",
    "\n",
    "`Example 1:`\n",
    "Input: nums = [3,0,1]\n",
    "\n",
    "Output: 2\n",
    "\n",
    "Explanation: n = 3 since there are 3 numbers, so all numbers are in the range [0,3]. 2 is the missing number in the range since it does not appear in nums.\n",
    "\n",
    "`Example 2:`\n",
    "Input: nums = [0,1]\n",
    "\n",
    "Output: 2\n",
    "\n",
    "Explanation: n = 2 since there are 2 numbers, so all numbers are in the range [0,2]. 2 is the missing number in the range since it does not appear in nums.\n",
    "\n",
    "`Example 3:`\n",
    "Input: nums = [9,6,4,2,3,5,7,0,1]\n",
    "\n",
    "Output: 8\n",
    "\n",
    "Explanation: n = 9 since there are 9 numbers, so all numbers are in the range [0,9]. 8 is the missing number in the range since it does not appear in nums.\n",
    " \n",
    "\n",
    "`Constraints:`\n",
    "\n",
    "n == nums.length\n",
    "\n",
    "1 <= n <= 104\n",
    "\n",
    "0 <= nums[i] <= n\n",
    "\n",
    "All the numbers of nums are unique."
   ]
  },
  {
   "cell_type": "code",
   "execution_count": 104,
   "id": "e8550ef6-e90a-48d9-a786-94ccf3d61299",
   "metadata": {},
   "outputs": [
    {
     "name": "stdout",
     "output_type": "stream",
     "text": [
      "2\n",
      "CPU times: user 201 µs, sys: 83 µs, total: 284 µs\n",
      "Wall time: 266 µs\n"
     ]
    }
   ],
   "source": [
    "%%time\n",
    "class Solution:\n",
    "    def missingNumber(self, nums: list[int]) -> int:\n",
    "        for nr in range(len(nums) + 1):\n",
    "            if nr in nums:\n",
    "                continue\n",
    "            return nr\n",
    "            \n",
    "solution = Solution()\n",
    "# nums =  [3,0,1]\n",
    "# nums = [9,6,4,2,3,5,7,0,1,9]\n",
    "nums = [0,1]\n",
    "print(solution.missingNumber(nums))"
   ]
  },
  {
   "cell_type": "code",
   "execution_count": 105,
   "id": "632aa5b4-7539-4a08-81ed-b49db5edd150",
   "metadata": {},
   "outputs": [
    {
     "name": "stdout",
     "output_type": "stream",
     "text": [
      "2\n",
      "CPU times: user 315 µs, sys: 156 µs, total: 471 µs\n",
      "Wall time: 401 µs\n"
     ]
    }
   ],
   "source": [
    "%%time\n",
    "class Solution:\n",
    "    def missingNumber(self, nums: list[int]) -> int:\n",
    "        num_set = set(nums)\n",
    "        initial_length = len(num_set)\n",
    "        for n in range(len(nums) + 1):\n",
    "            num_set.add(n)\n",
    "            if len(num_set) > initial_length:\n",
    "                return n\n",
    "            \n",
    "        \n",
    "solution = Solution()\n",
    "# nums =  [3,0,1]\n",
    "# nums = [9,6,4,2,3,5,7,0,1,9]\n",
    "nums = [0,1]\n",
    "print(solution.missingNumber(nums))"
   ]
  },
  {
   "cell_type": "code",
   "execution_count": 58,
   "id": "12d0891c-ef75-41c6-93f9-637e2279d55f",
   "metadata": {},
   "outputs": [
    {
     "data": {
      "text/plain": [
       "{0, 1, 2, 3, 4, 5, 6, 7, 9}"
      ]
     },
     "execution_count": 58,
     "metadata": {},
     "output_type": "execute_result"
    }
   ],
   "source": [
    "set(nums)"
   ]
  },
  {
   "cell_type": "markdown",
   "id": "790b9d3d-a4ce-44ff-b362-b8727513907b",
   "metadata": {},
   "source": [
    "### 20. Valid Parentheses"
   ]
  },
  {
   "cell_type": "markdown",
   "id": "edcf9647-2c63-41f8-b2de-5f74fdef8eab",
   "metadata": {},
   "source": [
    "Given a string s containing just the characters '(', ')', '{', '}', '[' and ']', determine if the input string is valid.\n",
    "\n",
    "`An input string is valid if:`\n",
    "\n",
    "1. Open brackets must be closed by the same type of brackets.\n",
    "2. Open brackets must be closed in the correct order.\n",
    "3. Every close bracket has a corresponding open bracket of the same type.\n",
    " \n",
    "\n",
    "`Example 1:`\n",
    "\n",
    "Input: s = \"()\"\n",
    "\n",
    "Output: true\n",
    "\n",
    "Example 2:\n",
    "\n",
    "Input: s = \"()[]{}\"\n",
    "\n",
    "Output: true\n",
    "\n",
    "`Example 3:`\n",
    "\n",
    "Input: s = \"(]\"\n",
    "\n",
    "Output: false\n",
    " \n",
    "\n",
    "`Constraints:`\n",
    "\n",
    "1 <= s.length <= 104\n",
    "\n",
    "s consists of parentheses only '()[]{}'."
   ]
  },
  {
   "cell_type": "code",
   "execution_count": 2,
   "id": "3dafdbd2-875f-4350-ac9e-7bdada9351f0",
   "metadata": {},
   "outputs": [
    {
     "data": {
      "text/plain": [
       "False"
      ]
     },
     "execution_count": 2,
     "metadata": {},
     "output_type": "execute_result"
    }
   ],
   "source": [
    "class Solution:\n",
    "    def isValid(self, s: str) -> bool:\n",
    "        # using a stack data structure for the solution\n",
    "        stack = []\n",
    "        open_close_hashmap = {\n",
    "            ')':'(',\n",
    "            '}':'{',\n",
    "            ']':'['\n",
    "        }\n",
    "        for para in s:\n",
    "            # if got closed paranthesis, check if the paranthesis has matching open paranthesis\n",
    "            if para in open_close_hashmap:\n",
    "                # if stack is not empty\n",
    "                # and the last value of stack is equal to the opening paranthesis\n",
    "                if stack and stack[-1] == open_close_hashmap[para]:\n",
    "                    stack.pop()\n",
    "                else:\n",
    "                    return False\n",
    "            else:\n",
    "                # keep going if you got open paranthesis\n",
    "                stack.append(para)\n",
    "        # return true if our stack is empty, else return false\n",
    "        return True if not stack else False\n",
    "\n",
    "solution = Solution()\n",
    "s = \"}{{}\"\n",
    "solution.isValid(s)"
   ]
  },
  {
   "cell_type": "markdown",
   "id": "1d8ba7ac-ccbd-46c8-8760-5ffbca7c4144",
   "metadata": {},
   "source": [
    "## 21. Merge Two Sorted Lists (WIP) "
   ]
  },
  {
   "cell_type": "markdown",
   "id": "16c806d4-fc66-4218-a8c4-6ff2a2d4c941",
   "metadata": {},
   "source": [
    "You are given the heads of two sorted linked lists list1 and list2.\n",
    "\n",
    "Merge the two lists into one sorted list. The list should be made by splicing together the nodes of the first two lists.\n",
    "\n",
    "Return the head of the merged linked list.\n",
    "\n",
    "`Example 1:`\n",
    "![](images/merge-two-sorted-list.jpg)\n",
    "\n",
    "Input: list1 = [1,2,4], list2 = [1,3,4]\n",
    "\n",
    "Output: [1,1,2,3,4,4]\n",
    "\n",
    "`Example 2:`\n",
    "\n",
    "Input: list1 = [], list2 = []\n",
    "\n",
    "Output: []\n",
    "\n",
    "`Example 3:`\n",
    "\n",
    "Input: list1 = [], list2 = [0]\n",
    "\n",
    "Output: [0]\n",
    " \n",
    "\n",
    "`Constraints:`\n",
    "\n",
    "The number of nodes in both lists is in the range [0, 50].\n",
    "\n",
    "-100 <= Node.val <= 100\n"
   ]
  },
  {
   "cell_type": "code",
   "execution_count": 1,
   "id": "fc0dd223-e124-4f33-aa59-38423373d7d7",
   "metadata": {},
   "outputs": [],
   "source": [
    "# # Definition for singly-linked list.\n",
    "# class ListNode:\n",
    "#     def __init__(self, val=0, next=None):\n",
    "#         self.val = val\n",
    "#         self.next = next\n",
    "# class Solution:\n",
    "#     def mergeTwoLists(self, list1: ListNode, list2: ListNode) -> ListNode:\n",
    "#         merged = ListNode()\n",
    "#         tail = merged\n",
    "\n",
    "#         i = 0\n",
    "#         j = 0\n",
    "#         while list1 and list2: # both not empty\n",
    "#             if list1[i].val <list2[i].val:\n",
    "#                 tail.next = list1[i]\n",
    "#                 i +=1\n",
    "#             else:\n",
    "#                 tail.next = list2[j]\n",
    "#                 j +=1\n",
    "#             tail = tail.next\n",
    "#         if list2:\n",
    "#             tail.next = list2[0]\n",
    "#         elif list1:\n",
    "#             tail.next = list1[0]\n",
    "\n",
    "#         return merged.next\n",
    "             \n",
    "\n",
    "# solution = Solution()\n",
    "# four = ListNode(4)\n",
    "# three = ListNode(3, next=four)\n",
    "# two = ListNode(2, next=three)\n",
    "# one = ListNode(1, next=two)\n",
    "# list1 = [one,two,three]\n",
    "# list2 = [one,three,four]\n",
    "# solution.mergeTwoLists(list1, list2)"
   ]
  },
  {
   "cell_type": "code",
   "execution_count": 5,
   "id": "4f48d3bd-3d66-459d-bc32-9fbc2a4492a9",
   "metadata": {},
   "outputs": [
    {
     "data": {
      "text/plain": [
       "<__main__.ListNode at 0x10699ea40>"
      ]
     },
     "execution_count": 5,
     "metadata": {},
     "output_type": "execute_result"
    }
   ],
   "source": [
    "list2[0]"
   ]
  },
  {
   "cell_type": "markdown",
   "id": "5098b20c-f051-4741-bcea-34f62ab19f44",
   "metadata": {},
   "source": [
    "## 141. Linked List Cycle\n",
    "[LeetCode link](https://leetcode.com/problems/linked-list-cycle/description/?envType=problem-list-v2&envId=oizxjoit)\n",
    "\n",
    "Given head, the head of a linked list, determine if the linked list has a cycle in it.\n",
    "\n",
    "There is a cycle in a linked list if there is some node in the list that can be reached again by continuously following the next pointer. Internally, pos is used to denote the index of the node that tail's next pointer is connected to. Note that pos is not passed as a parameter.\n",
    "\n",
    "Return true if there is a cycle in the linked list. Otherwise, return false."
   ]
  },
  {
   "cell_type": "code",
   "execution_count": 10,
   "id": "34903e7b-76d9-4a91-8722-736eedb94b02",
   "metadata": {},
   "outputs": [
    {
     "data": {
      "text/plain": [
       "False"
      ]
     },
     "execution_count": 10,
     "metadata": {},
     "output_type": "execute_result"
    }
   ],
   "source": [
    "# Definition for singly-linked list.\n",
    "class ListNode:\n",
    "    def __init__(self, x):\n",
    "        self.val = x\n",
    "        self.next = None\n",
    "\n",
    "class Solution:\n",
    "    def hasCycle(self, head: ListNode) -> bool:\n",
    "        cycle_set = set()\n",
    "        next_node = head\n",
    "        \n",
    "        while next_node:\n",
    "            if next_node in cycle_set:\n",
    "                return True\n",
    "            else:\n",
    "                cycle_set.add(next_node)\n",
    "            if next_node.next is None:\n",
    "                break\n",
    "            next_node = next_node.next\n",
    "        return False\n",
    "\n",
    "solution = Solution()\n",
    "four = ListNode(4)\n",
    "three = ListNode(3)\n",
    "two = ListNode(2)\n",
    "one = ListNode(1)\n",
    "one.next = two\n",
    "two.next=three\n",
    "three.next=four\n",
    "# four.next=one\n",
    "\n",
    "solution.hasCycle(one)"
   ]
  },
  {
   "cell_type": "code",
   "execution_count": null,
   "id": "8a565587-76b0-4925-a04d-2562340f1b4f",
   "metadata": {},
   "outputs": [],
   "source": []
  }
 ],
 "metadata": {
  "kernelspec": {
   "display_name": "Python 3 (ipykernel)",
   "language": "python",
   "name": "python3"
  },
  "language_info": {
   "codemirror_mode": {
    "name": "ipython",
    "version": 3
   },
   "file_extension": ".py",
   "mimetype": "text/x-python",
   "name": "python",
   "nbconvert_exporter": "python",
   "pygments_lexer": "ipython3",
   "version": "3.10.14"
  }
 },
 "nbformat": 4,
 "nbformat_minor": 5
}
