{
 "cells": [
  {
   "cell_type": "markdown",
   "id": "1a8d7af5-0388-4575-b52b-6c4cba42e144",
   "metadata": {},
   "source": [
    "## Easy"
   ]
  },
  {
   "cell_type": "markdown",
   "id": "47694c8c-79cf-418b-ad6a-25969b9a7e92",
   "metadata": {},
   "source": [
    "### Two Sum "
   ]
  },
  {
   "cell_type": "markdown",
   "id": "ba5c3076-e625-4e90-b8c4-e11b0fad6e21",
   "metadata": {},
   "source": [
    "Given an array of integers `nums` and an integer `target`, return indices of the two numbers such that they add up to `target`.\n",
    "\n",
    "You may assume that each input would have exactly one solution, and you may not use the same element twice.\n",
    "\n",
    "You can return the answer in any order.\n",
    "\n",
    "Example 1:\n",
    "\n",
    "Input: nums = [2,7,11,15], target = 9\n",
    "\n",
    "Output: [0,1]\n",
    "\n",
    "Explanation: Because nums[0] + nums[1] == 9, we return [0, 1].\n",
    "\n",
    "Example 2:\n",
    "\n",
    "Input: nums = [3,2,4], target = 6\n",
    "\n",
    "Output: [1,2]\n",
    "\n",
    "Example 3:\n",
    "\n",
    "Input: nums = [3,3], target = 6\\n\n",
    "\n",
    "Output: [0,1]\n",
    "\n",
    "**Constraints:**\n",
    "\n",
    "- 2 <= nums.length <= 10^4\n",
    "- -10^9 <= nums[i] <= 10^9\n",
    "- -10^9 <= target <= 109\n",
    "- Only one valid answer exists. **we dont have to worry about no solution or multiple solutions**"
   ]
  },
  {
   "cell_type": "code",
   "execution_count": 21,
   "id": "16335c68-cf98-4e78-98c4-808050cfeb6c",
   "metadata": {},
   "outputs": [
    {
     "name": "stdout",
     "output_type": "stream",
     "text": [
      "{3: 7, 2: 1, 4: 2, 8: 3, 7: 4, 5: 5, 0: 6, 6: 8}\n",
      "None\n",
      "CPU times: user 371 µs, sys: 195 µs, total: 566 µs\n",
      "Wall time: 461 µs\n"
     ]
    }
   ],
   "source": [
    "%%time\n",
    "class Solution:        \n",
    "    def twoSum(self, nums: list[int], target: int) -> list[int]:\n",
    "        value_index_hash = {}\n",
    "        for i in range(len(nums)):\n",
    "            if (target - nums[i]) in value_index_hash.keys():\n",
    "                return [value_index_hash[target - nums[i]], i]\n",
    "            else:\n",
    "                value_index_hash[nums[i]] = i\n",
    "        print(value_index_hash)\n",
    "                \n",
    "            \n",
    "\n",
    "        \n",
    "\n",
    "solution = Solution()\n",
    "nums = [3,2,4,8,7,5,0,3,6]\n",
    "target = 100\n",
    "\n",
    "print(solution.twoSum(nums, target))"
   ]
  },
  {
   "cell_type": "markdown",
   "id": "e0bb892a-0807-419b-b5a7-1d2323f75fa3",
   "metadata": {},
   "source": [
    "### 121. Best Time to buy and sell stock"
   ]
  },
  {
   "cell_type": "markdown",
   "id": "08ebb1c9-aa5d-4cf4-a41b-19b6d00c8dbe",
   "metadata": {},
   "source": [
    "You are given an array prices where prices[i] is the price of a given stock on the ith day.\n",
    "\n",
    "You want to maximize your profit by choosing a single day to buy one stock and choosing a different day in the future to sell that stock.\n",
    "\n",
    "Return the maximum profit you can achieve from this transaction. If you cannot achieve any profit, return 0.\n",
    "\n",
    " \n",
    "\n",
    "Example 1:\n",
    "\n",
    "Input: prices = [7,1,5,3,6,4]\n",
    "\n",
    "Output: 5\n",
    "\n",
    "Explanation: Buy on day 2 (price = 1) and sell on day 5 (price = 6), profit = 6-1 = 5.\n",
    "\n",
    "Note that buying on day 2 and selling on day 1 is not allowed because you must buy before you sell.\n",
    "\n",
    "Example 2:\n",
    "\n",
    "Input: prices = [7,6,4,3,1]\n",
    "\n",
    "Output: 0\n",
    "\n",
    "Explanation: In this case, no transactions are done and the max profit = 0.\n",
    " \n",
    "\n",
    "Constraints:\n",
    "\n",
    "1 <= prices.length <= 105\n",
    "\n",
    "0 <= prices[i] <= 104"
   ]
  },
  {
   "cell_type": "code",
   "execution_count": 22,
   "id": "d704b6a4-af21-4576-901c-d47c1cc59668",
   "metadata": {},
   "outputs": [
    {
     "name": "stdout",
     "output_type": "stream",
     "text": [
      "6\n",
      "CPU times: user 116 µs, sys: 61 µs, total: 177 µs\n",
      "Wall time: 149 µs\n"
     ]
    }
   ],
   "source": [
    "%%time\n",
    "class Solution:\n",
    "    def maxProfit(self, prices: list[int]) -> int:\n",
    "        l, r = 0, 1\n",
    "        cur_profit = 0\n",
    "\n",
    "        while r < len(prices):\n",
    "            if prices[l] < prices[r]:\n",
    "                profit = prices[r] - prices[l]\n",
    "                cur_profit = max(cur_profit, profit)\n",
    "            else:\n",
    "                l = r\n",
    "            r = r+1\n",
    "        return cur_profit\n",
    "\n",
    "solution = Solution()\n",
    "prices = [3,2,4,8,7,5,0,3,6]\n",
    "# prices = [7,6,4,3,1]\n",
    "# prices = [7,1,5,3,6,4]\n",
    "\n",
    "\n",
    "print(solution.maxProfit(prices))\n",
    "        "
   ]
  },
  {
   "cell_type": "markdown",
   "id": "cd1cd9d4-6c73-465a-bc05-c1d5032b13de",
   "metadata": {},
   "source": [
    "### 217. Contains Duplicate "
   ]
  },
  {
   "cell_type": "markdown",
   "id": "68063f30-f6bc-40c2-bcd4-65bf13b8cc85",
   "metadata": {},
   "source": [
    "Given an integer array nums, `return true` if any value appears at least `twice` in the array, and return false if every element is distinct.\n",
    "\n",
    "Example 1:\n",
    "\n",
    "Input: nums = [1,2,3,1]\n",
    "\n",
    "Output: true\n",
    "\n",
    "Example 2:\n",
    "\n",
    "Input: nums = [1,2,3,4]\n",
    "\n",
    "Output: false\n",
    "\n",
    "Example 3:\n",
    "\n",
    "Input: nums = [1,1,1,3,3,4,3,2,4,2]\n",
    "\n",
    "Output: true\n",
    " \n",
    "\n",
    "Constraints:\n",
    "\n",
    "`1 <= nums.length <= 105`\n",
    "\n",
    "`-109 <= nums[i] <= 109`\n"
   ]
  },
  {
   "cell_type": "code",
   "execution_count": 23,
   "id": "71fd524c-e646-4a5b-b70e-25fcf6ea3b6e",
   "metadata": {},
   "outputs": [
    {
     "data": {
      "text/plain": [
       "False"
      ]
     },
     "execution_count": 23,
     "metadata": {},
     "output_type": "execute_result"
    }
   ],
   "source": [
    "class Solution:\n",
    "    def containsDuplicate(self, nums: list[int]) -> bool:\n",
    "        value_set = {}\n",
    "        for n in nums:\n",
    "            if n in value_set.keys():\n",
    "                return True\n",
    "            else:\n",
    "                value_set[n] = 1\n",
    "        return False\n",
    "        \n",
    "solution = Solution()\n",
    "nums = [1,2,3,1]\n",
    "nums = [1,1,1,3,3,4,3,2,4,2]\n",
    "nums = [1,2,3,4]\n",
    "solution.containsDuplicate(nums)"
   ]
  },
  {
   "cell_type": "code",
   "execution_count": 24,
   "id": "5c3cd5cd-1cd8-4ed3-b0d8-0c43ef0efed3",
   "metadata": {},
   "outputs": [
    {
     "name": "stdout",
     "output_type": "stream",
     "text": [
      "{3, 4, 5}\n"
     ]
    },
    {
     "data": {
      "text/plain": [
       "True"
      ]
     },
     "execution_count": 24,
     "metadata": {},
     "output_type": "execute_result"
    }
   ],
   "source": [
    "value_set = {3,4,5}\n",
    "value_set.add(5)\n",
    "print(value_set)\n",
    "5 in value_set"
   ]
  },
  {
   "cell_type": "markdown",
   "id": "8f7dde9c-6b13-45af-bcf7-2949d3388302",
   "metadata": {},
   "source": [
    "### 125. Valid Palindrome"
   ]
  },
  {
   "cell_type": "markdown",
   "id": "efbf480d-8b42-4862-a4c5-a732da929fcf",
   "metadata": {},
   "source": [
    "A phrase is a palindrome if, after converting all uppercase letters into lowercase letters and removing all non-alphanumeric characters, it reads the same forward and backward. Alphanumeric characters include letters and numbers.\n",
    "\n",
    "Given a string s, return true if it is a palindrome, or false otherwise.\n",
    "\n",
    " \n",
    "\n",
    "Example 1:\n",
    "\n",
    "Input: s = \"A man, a plan, a canal: Panama\"\n",
    "\n",
    "Output: true\n",
    "\n",
    "Explanation: \"amanaplanacanalpanama\" is a palindrome.\n",
    "\n",
    "Example 2:\n",
    "\n",
    "Input: s = \"race a car\"\n",
    "\n",
    "Output: false\n",
    "\n",
    "Explanation: \"raceacar\" is not a palindrome.\n",
    "\n",
    "Example 3:\n",
    "\n",
    "Input: s = \" \"\n",
    "\n",
    "Output: true\n",
    "\n",
    "Explanation: s is an empty string \"\" after removing non-alphanumeric characters.\n",
    "\n",
    "Since an empty string reads the same forward and backward, it is a palindrome.\n",
    " \n",
    "Constraints:\n",
    "\n",
    "1 <= s.length <= 2 * 105\n",
    "\n",
    "s consists only of printable ASCII characters."
   ]
  },
  {
   "cell_type": "code",
   "execution_count": 25,
   "id": "f09aedef-054c-418c-a44c-9f8d316804d0",
   "metadata": {},
   "outputs": [
    {
     "data": {
      "text/plain": [
       "True"
      ]
     },
     "execution_count": 25,
     "metadata": {},
     "output_type": "execute_result"
    }
   ],
   "source": [
    "class Solution:\n",
    "    def isPalindrome(self, s: str) -> bool:\n",
    "        modified_str = ''\n",
    "        for c in s:\n",
    "            if c.isalnum():\n",
    "                modified_str+=c.lower()\n",
    "        return modified_str == modified_str[::-1]\n",
    "            \n",
    "\n",
    "solution = Solution()\n",
    "s = \"Marge, let's \\\"[went].\\\" I await {news} telegram.\"\n",
    "# s = \"A man, a plan, a canal: Panama\"\n",
    "solution.isPalindrome(s)"
   ]
  },
  {
   "cell_type": "code",
   "execution_count": 26,
   "id": "f78f735a-e44e-46e8-bff6-a9e3ebf4cb84",
   "metadata": {},
   "outputs": [
    {
     "data": {
      "text/plain": [
       "True"
      ]
     },
     "execution_count": 26,
     "metadata": {},
     "output_type": "execute_result"
    }
   ],
   "source": [
    "# two pointer solution\n",
    "\n",
    "class Solution:\n",
    "    def isPalindrome(self, s: str) -> bool:\n",
    "        modified_str = ''\n",
    "        #remove all non alphanumeric values\n",
    "        # complexity of this algorithm is O(n)\n",
    "        for c in s:\n",
    "            if c.isalnum():\n",
    "                modified_str+=c.lower()\n",
    "        i = 0\n",
    "        j = len(modified_str) - 1\n",
    "\n",
    "        # check the first index value and last index value simultaneously\n",
    "        # stop in the middle - and if middle reached then palindrome true\n",
    "        # else palindrome false\n",
    "        # complexity of this algorithm is O(n/2) = O(n)\n",
    "        while i < j:\n",
    "            if modified_str[i] !=modified_str[j]:\n",
    "                return False\n",
    "            else:\n",
    "                i +=1\n",
    "                j -=1\n",
    "        return True\n",
    "            \n",
    "\n",
    "solution = Solution()\n",
    "s = \"Marge, let's \\\"[went].\\\" I await {news} telegram.\"\n",
    "# s = \"A man, a plan, a canal: Panama\"\n",
    "solution.isPalindrome(s)"
   ]
  },
  {
   "cell_type": "code",
   "execution_count": 27,
   "id": "02e9411a-1dfd-4b1e-8788-17604b80402e",
   "metadata": {},
   "outputs": [
    {
     "data": {
      "text/plain": [
       "False"
      ]
     },
     "execution_count": 27,
     "metadata": {},
     "output_type": "execute_result"
    }
   ],
   "source": [
    "s = \"0P\"\n",
    "# s = \"A man, a plan, a canal: Panama\"\n",
    "solution.isPalindrome(s)"
   ]
  },
  {
   "cell_type": "markdown",
   "id": "0d404a47-7d3e-4027-8aa2-c83e5380dab6",
   "metadata": {},
   "source": [
    "### 242. Valid Anagram"
   ]
  },
  {
   "cell_type": "markdown",
   "id": "95384753-a0f2-447f-a4bd-d177bc0f5ff3",
   "metadata": {},
   "source": [
    "Given two strings s and t, return true if t is an anagram of s, and false otherwise.\n",
    "\n",
    "An Anagram is a word or phrase formed by rearranging the letters of a different word or phrase, typically using all the original letters exactly once.\n",
    "\n",
    " \n",
    "\n",
    "Example 1:\n",
    "\n",
    "Input: s = \"anagram\", t = \"nagaram\"\n",
    "\n",
    "Output: true\n",
    "\n",
    "Example 2:\n",
    "\n",
    "Input: s = \"rat\", t = \"car\"\n",
    "\n",
    "Output: false\n",
    " \n",
    "\n",
    "Constraints:\n",
    "\n",
    "1 <= s.length, t.length <= 5 * 104\n",
    "\n",
    "s and t consist of lowercase English letters.\n"
   ]
  },
  {
   "cell_type": "code",
   "execution_count": 28,
   "id": "391b1547-362c-406a-a661-df74cc97c842",
   "metadata": {},
   "outputs": [
    {
     "data": {
      "text/plain": [
       "True"
      ]
     },
     "execution_count": 28,
     "metadata": {},
     "output_type": "execute_result"
    }
   ],
   "source": [
    "class Solution:\n",
    "    def isAnagram(self, s: str, t: str) -> bool:\n",
    "        if len(s) == len(t):\n",
    "            s_hash_map = {}\n",
    "            for s_val in s:\n",
    "                if s_val in s_hash_map.keys():\n",
    "                    s_hash_map[s_val] += 1\n",
    "                else:\n",
    "                    s_hash_map[s_val] = 1                \n",
    "            \n",
    "            t_hash_map = {key:0 for key in s_hash_map.keys()}\n",
    "            \n",
    "            for t_val in t:\n",
    "                if t_val in t_hash_map.keys():\n",
    "                    t_hash_map[t_val] +=1\n",
    "                else:\n",
    "                    return False\n",
    "            for key in t_hash_map.keys():\n",
    "                if t_hash_map[key] == 0:\n",
    "                    return False\n",
    "                elif t_hash_map[key] > s_hash_map[key]:\n",
    "                    return False\n",
    "                elif t_hash_map[key] < s_hash_map[key]:\n",
    "                    return False\n",
    "                else:\n",
    "                    return True\n",
    "        return False\n",
    "        \n",
    "solution = Solution()\n",
    "s = \"anagram\"\n",
    "t = \"nagaram\"\n",
    "solution.isAnagram(s,t)\n",
    "        "
   ]
  },
  {
   "cell_type": "code",
   "execution_count": 29,
   "id": "347501ac-1845-45e7-a576-2ff73ddf44ce",
   "metadata": {},
   "outputs": [
    {
     "data": {
      "text/plain": [
       "False"
      ]
     },
     "execution_count": 29,
     "metadata": {},
     "output_type": "execute_result"
    }
   ],
   "source": [
    "s =\"aacc\"\n",
    "t = \"ccac\"\n",
    "solution.isAnagram(s,t)"
   ]
  },
  {
   "cell_type": "code",
   "execution_count": 30,
   "id": "f57bf873-62cd-46eb-8952-d60346efab47",
   "metadata": {},
   "outputs": [
    {
     "data": {
      "text/plain": [
       "False"
      ]
     },
     "execution_count": 30,
     "metadata": {},
     "output_type": "execute_result"
    }
   ],
   "source": [
    "s =\"anagtam\"\n",
    "t =\"nbgbram\"\n",
    "solution.isAnagram(s,t)"
   ]
  },
  {
   "cell_type": "markdown",
   "id": "7fa42f58-58eb-4cbd-a47d-af560df4c77a",
   "metadata": {},
   "source": [
    "### 100. Same Tree"
   ]
  },
  {
   "cell_type": "markdown",
   "id": "53f58d85-2c96-425a-bb39-4899b8da7629",
   "metadata": {},
   "source": [
    "Given the roots of two binary trees p and q, write a function to check if they are the same or not.\n",
    "\n",
    "Two binary trees are considered the same if they are structurally identical, and the nodes have the same value.\n",
    "\n",
    " \n",
    "Example 1:\n",
    "\n",
    "Input: p = [1,2,3], q = [1,2,3]\n",
    "\n",
    "Output: true"
   ]
  },
  {
   "cell_type": "code",
   "execution_count": 131,
   "id": "35802233-646b-44f1-9c11-785571668a6f",
   "metadata": {},
   "outputs": [],
   "source": [
    "# Recursive Solution\n",
    "\n",
    "# Definition for a binary tree node.\n",
    "class TreeNode:\n",
    "    def __init__(self, val=0, left=None, right=None):\n",
    "        self.val = val\n",
    "        self.left = left\n",
    "        self.right = right\n",
    "class Solution:\n",
    "    def isSameTree(self, p: TreeNode, q: TreeNode) -> bool:\n",
    "        if (p is None) or (q is None):\n",
    "            return False\n",
    "        elif (p is None) and (q is None):\n",
    "            return True\n",
    "            \n",
    "        if p.val == q.val:\n",
    "            return self.isSameTree(p.left, q.left) and self.isSameTree(p.right, q.right)\n",
    "        return False\n",
    "        "
   ]
  },
  {
   "cell_type": "code",
   "execution_count": 132,
   "id": "83b991f1-4ebb-4943-aa48-62017c7b2568",
   "metadata": {},
   "outputs": [
    {
     "name": "stdout",
     "output_type": "stream",
     "text": [
      "CPU times: user 28 µs, sys: 0 ns, total: 28 µs\n",
      "Wall time: 31.9 µs\n"
     ]
    },
    {
     "data": {
      "text/plain": [
       "False"
      ]
     },
     "execution_count": 132,
     "metadata": {},
     "output_type": "execute_result"
    }
   ],
   "source": [
    "%%time\n",
    "\n",
    "p = TreeNode(1, TreeNode(2, TreeNode(2), TreeNode(3)), TreeNode(3))\n",
    "q = TreeNode(1, TreeNode(2), TreeNode(3))\n",
    "\n",
    "solution = Solution()\n",
    "solution.isSameTree(p,q)"
   ]
  },
  {
   "cell_type": "markdown",
   "id": "066a004c-4b6e-43fc-9ff4-cc5d3eddf436",
   "metadata": {},
   "source": [
    "### 268. Missing Number"
   ]
  },
  {
   "cell_type": "markdown",
   "id": "5fec385d-d59c-4234-8ee8-249a2a366999",
   "metadata": {},
   "source": [
    " \n",
    "Given an array nums containing n distinct numbers in the range [0, n], return the only number in the range that is missing from the array.\n",
    "\n",
    " \n",
    "\n",
    "`Example 1:`\n",
    "Input: nums = [3,0,1]\n",
    "\n",
    "Output: 2\n",
    "\n",
    "Explanation: n = 3 since there are 3 numbers, so all numbers are in the range [0,3]. 2 is the missing number in the range since it does not appear in nums.\n",
    "\n",
    "`Example 2:`\n",
    "Input: nums = [0,1]\n",
    "\n",
    "Output: 2\n",
    "\n",
    "Explanation: n = 2 since there are 2 numbers, so all numbers are in the range [0,2]. 2 is the missing number in the range since it does not appear in nums.\n",
    "\n",
    "`Example 3:`\n",
    "Input: nums = [9,6,4,2,3,5,7,0,1]\n",
    "\n",
    "Output: 8\n",
    "\n",
    "Explanation: n = 9 since there are 9 numbers, so all numbers are in the range [0,9]. 8 is the missing number in the range since it does not appear in nums.\n",
    " \n",
    "\n",
    "`Constraints:`\n",
    "\n",
    "n == nums.length\n",
    "\n",
    "1 <= n <= 104\n",
    "\n",
    "0 <= nums[i] <= n\n",
    "\n",
    "All the numbers of nums are unique."
   ]
  },
  {
   "cell_type": "code",
   "execution_count": 104,
   "id": "e8550ef6-e90a-48d9-a786-94ccf3d61299",
   "metadata": {},
   "outputs": [
    {
     "name": "stdout",
     "output_type": "stream",
     "text": [
      "2\n",
      "CPU times: user 201 µs, sys: 83 µs, total: 284 µs\n",
      "Wall time: 266 µs\n"
     ]
    }
   ],
   "source": [
    "%%time\n",
    "class Solution:\n",
    "    def missingNumber(self, nums: list[int]) -> int:\n",
    "        for nr in range(len(nums) + 1):\n",
    "            if nr in nums:\n",
    "                continue\n",
    "            return nr\n",
    "            \n",
    "solution = Solution()\n",
    "# nums =  [3,0,1]\n",
    "# nums = [9,6,4,2,3,5,7,0,1,9]\n",
    "nums = [0,1]\n",
    "print(solution.missingNumber(nums))"
   ]
  },
  {
   "cell_type": "code",
   "execution_count": 105,
   "id": "632aa5b4-7539-4a08-81ed-b49db5edd150",
   "metadata": {},
   "outputs": [
    {
     "name": "stdout",
     "output_type": "stream",
     "text": [
      "2\n",
      "CPU times: user 315 µs, sys: 156 µs, total: 471 µs\n",
      "Wall time: 401 µs\n"
     ]
    }
   ],
   "source": [
    "%%time\n",
    "class Solution:\n",
    "    def missingNumber(self, nums: list[int]) -> int:\n",
    "        num_set = set(nums)\n",
    "        initial_length = len(num_set)\n",
    "        for n in range(len(nums) + 1):\n",
    "            num_set.add(n)\n",
    "            if len(num_set) > initial_length:\n",
    "                return n\n",
    "            \n",
    "        \n",
    "solution = Solution()\n",
    "# nums =  [3,0,1]\n",
    "# nums = [9,6,4,2,3,5,7,0,1,9]\n",
    "nums = [0,1]\n",
    "print(solution.missingNumber(nums))"
   ]
  },
  {
   "cell_type": "code",
   "execution_count": 58,
   "id": "12d0891c-ef75-41c6-93f9-637e2279d55f",
   "metadata": {},
   "outputs": [
    {
     "data": {
      "text/plain": [
       "{0, 1, 2, 3, 4, 5, 6, 7, 9}"
      ]
     },
     "execution_count": 58,
     "metadata": {},
     "output_type": "execute_result"
    }
   ],
   "source": [
    "set(nums)"
   ]
  },
  {
   "cell_type": "markdown",
   "id": "444c74d7-2640-4ac2-9827-de51186c8149",
   "metadata": {},
   "source": [
    "# Medium"
   ]
  },
  {
   "cell_type": "markdown",
   "id": "2778d592-b13e-455b-9745-f6907d882915",
   "metadata": {},
   "source": [
    "## 238. Product of Array Except Self WIP"
   ]
  },
  {
   "cell_type": "markdown",
   "id": "f30335e9-169f-4a0d-b639-be9c0bc3830c",
   "metadata": {},
   "source": [
    "Given an integer array nums, return an array answer such that answer[i] is equal to the product of all the elements of nums except nums[i].\n",
    "\n",
    "The product of any prefix or suffix of nums is guaranteed to fit in a 32-bit integer.\n",
    "\n",
    "You must `write an algorithm that runs in O(n)` time and `without using the division` operation.\n",
    "\n",
    " \n",
    "\n",
    "**Example 1:**\n",
    "\n",
    "Input: nums = [1,2,3,4]\n",
    "\n",
    "Output: [24,12,8,6]\n",
    "\n",
    "**Example 2:**\n",
    "\n",
    "Input: nums = [-1,1,0,-3,3]\n",
    "\n",
    "Output: [0,0,9,0,0]\n",
    " \n",
    "\n",
    "**Constraints:**\n",
    "\n",
    "`2 <= nums.length <= 105`\n",
    "\n",
    "`-30 <= nums[i] <= 30`\n",
    "\n",
    "The product of any prefix or suffix of nums is guaranteed to fit in a 32-bit integer.\n"
   ]
  },
  {
   "cell_type": "markdown",
   "id": "96aa6fac-146e-4bb9-830e-28c696ecb86a",
   "metadata": {},
   "source": [
    "lets change `1, 2, 3, 4` positions to symbols like `a, b, c, d` so multiplying will be:\n",
    "\n",
    "prefix:->\n",
    "\n",
    "`|       a       |   a*b   | a*b*c | a*b*c*d |`\n",
    "\n",
    "postfix: <-\n",
    "\n",
    "`| a*b*c*d | b*c*d |   c*d   |      d        |`\n",
    "\n",
    "\n",
    "the result is a multiply without the symbol in own position (the left value from prefix and the right one from postfix):\n",
    "\n",
    "`|    b*c*d  | a*c*d | a*b*d |   a*b*c   |`"
   ]
  },
  {
   "cell_type": "code",
   "execution_count": 19,
   "id": "634969b1-f457-495e-99ae-0c1a4b03b72b",
   "metadata": {},
   "outputs": [
    {
     "name": "stdout",
     "output_type": "stream",
     "text": [
      "[1, 2, 6, 24] [6, 6, 3, 1]\n"
     ]
    }
   ],
   "source": [
    "class Solution:\n",
    "    def productExceptSelf(self, nums:list[int]):\n",
    "        output = len(nums) * [1]\n",
    "        prefix = len(nums) * [1]\n",
    "        postfix = len(nums) * [1]\n",
    "\n",
    "        for i in range(len(nums)):\n",
    "            if i == 0:\n",
    "                prefix[i] = 1\n",
    "            else:\n",
    "                prefix[i] = prefix[i-1] * nums[i]\n",
    "\n",
    "        for i in range(len(nums)-1,-1,-1):\n",
    "            if len(nums)-1 == i:\n",
    "                postfix[i] = 1\n",
    "            else:\n",
    "                postfix[i] = postfix[i+1] * nums[i]\n",
    "                \n",
    "        print(prefix, postfix)\n",
    "\n",
    "solution = Solution()\n",
    "nums =  [1,2,3,4]\n",
    "solution.productExceptSelf(nums)"
   ]
  },
  {
   "cell_type": "code",
   "execution_count": 27,
   "id": "8a980b88-927c-4b57-afe2-6825fe79e8e2",
   "metadata": {},
   "outputs": [
    {
     "data": {
      "text/plain": [
       "{1, 2, 4}"
      ]
     },
     "execution_count": 27,
     "metadata": {},
     "output_type": "execute_result"
    }
   ],
   "source": [
    "{1,2,4} ** 2"
   ]
  },
  {
   "cell_type": "code",
   "execution_count": 56,
   "id": "624ea1b5-4b9a-4af1-a46b-e1c4c1435a0c",
   "metadata": {},
   "outputs": [
    {
     "data": {
      "text/plain": [
       "[3, 2, 1, 0]"
      ]
     },
     "execution_count": 56,
     "metadata": {},
     "output_type": "execute_result"
    }
   ],
   "source": [
    "list(range(len(nums)-1,-1,-1))"
   ]
  },
  {
   "cell_type": "markdown",
   "id": "5f6eb450-6f34-4f97-8d5b-c7a0a7d8664e",
   "metadata": {},
   "source": [
    "## 53. Maximum Subarray"
   ]
  },
  {
   "cell_type": "markdown",
   "id": "0c3b1d3b-92bd-40a7-af40-2d62b8c094a3",
   "metadata": {},
   "source": [
    "\n",
    "Given an integer array nums, find the subarray with the largest sum, and return its sum.\n",
    "\n",
    "**Subarray** is a contiguous non-empty sequence of elements within an array.\n",
    "\n",
    "**Example 1:**\n",
    "\n",
    "Input: nums = [-2,1,-3,4,-1,2,1,-5,4]\n",
    "\n",
    "Output: 6\n",
    "\n",
    "Explanation: The subarray [4,-1,2,1] has the largest sum 6.\n",
    "\n",
    "\n",
    "**Example 2:**\n",
    "Input: nums = [1]\n",
    "\n",
    "Output: 1\n",
    "\n",
    "Explanation: The subarray [1] has the largest sum 1.\n",
    "\n",
    "\n",
    "**Example 3:**\n",
    "Input: nums = [5,4,-1,7,8]\n",
    "\n",
    "Output: 23\n",
    "\n",
    "Explanation: The subarray [5,4,-1,7,8] has the largest sum 23.\n",
    "\n",
    "**Constraints:**\n",
    "\n",
    "`1 <= nums.length <= 105`\n",
    "`-104 <= nums[i] <= 104`\n",
    " \n",
    "\n",
    "`Follow up: If you have figured out the O(n) solution, try coding another solution using the divide and conquer approach, which is more subtle.`"
   ]
  },
  {
   "cell_type": "code",
   "execution_count": 58,
   "id": "0d8f96a3-f92c-4763-ada4-709b6b43fbf5",
   "metadata": {},
   "outputs": [
    {
     "name": "stdout",
     "output_type": "stream",
     "text": [
      "CPU times: user 37 µs, sys: 0 ns, total: 37 µs\n",
      "Wall time: 40.8 µs\n"
     ]
    },
    {
     "data": {
      "text/plain": [
       "6"
      ]
     },
     "execution_count": 58,
     "metadata": {},
     "output_type": "execute_result"
    }
   ],
   "source": [
    "%%time\n",
    "class Solution:\n",
    "    def maxSubArray(self, nums: list[int]) -> int:\n",
    "        maxSum = nums[0]\n",
    "        curSum = 0\n",
    "        \n",
    "        for n in nums:\n",
    "            if curSum < 0:\n",
    "                curSum = 0\n",
    "            curSum += n\n",
    "            if curSum > maxSum:\n",
    "                maxSum = curSum\n",
    "        return maxSum\n",
    "            \n",
    "            \n",
    "solution = Solution()\n",
    "nums =  [-2,1,-3,4,-1,2,1,-5,4]\n",
    "#output = 6\n",
    "solution.maxSubArray(nums)"
   ]
  },
  {
   "cell_type": "code",
   "execution_count": 61,
   "id": "533a87a6-89e3-4d0a-b5d7-1fbc9297655e",
   "metadata": {},
   "outputs": [
    {
     "name": "stdout",
     "output_type": "stream",
     "text": [
      "CPU times: user 39 µs, sys: 1e+03 ns, total: 40 µs\n",
      "Wall time: 43.2 µs\n"
     ]
    },
    {
     "data": {
      "text/plain": [
       "6"
      ]
     },
     "execution_count": 61,
     "metadata": {},
     "output_type": "execute_result"
    }
   ],
   "source": [
    "%%time\n",
    "class Solution:\n",
    "    def maxSubArray(self, nums: list[int]) -> int:\n",
    "        maxSum = nums[0]\n",
    "        curSum = 0\n",
    "        \n",
    "        for n in nums:\n",
    "            curSum += n\n",
    "            if curSum > maxSum:\n",
    "                maxSum = curSum\n",
    "            if curSum < 0:\n",
    "                curSum = 0\n",
    "        return maxSum\n",
    "            \n",
    "            \n",
    "solution = Solution()\n",
    "nums =  [-2,1,-3,4,-1,2,1,-5,4]\n",
    "#output = 6\n",
    "solution.maxSubArray(nums)"
   ]
  },
  {
   "cell_type": "markdown",
   "id": "726c4011-581f-47f5-b6c8-5a9e6ec44d22",
   "metadata": {
    "jp-MarkdownHeadingCollapsed": true
   },
   "source": [
    "## 152. Maximum Product Subarray"
   ]
  },
  {
   "cell_type": "markdown",
   "id": "0618f05d-894c-4713-a839-8964d0bedbf2",
   "metadata": {},
   "source": [
    "Given an integer array nums, find a subarray that has the largest product, and return the product.\n",
    "\n",
    "The test cases are generated so that the answer will fit in a 32-bit integer.\n",
    "\n",
    " \n",
    "\n",
    "`Example 1:`\n",
    "\n",
    "Input: nums = [2,3,-2,4]\n",
    "\n",
    "Output: 6\n",
    "\n",
    "Explanation: [2,3] has the largest product 6.\n",
    "\n",
    "`Example 2:`\n",
    "\n",
    "Input: nums = [-2,0,-1]\n",
    "\n",
    "Output: 0\n",
    "\n",
    "Explanation: The result cannot be 2, because [-2,-1] is not a subarray.\n",
    " \n",
    "\n",
    "`Constraints:`\n",
    "\n",
    "1 <= nums.length <= 2 * 104\n",
    "\n",
    "-10 <= nums[i] <= 10\n",
    "\n",
    "The product of any prefix or suffix of nums is guaranteed to fit in a 32-bit integer."
   ]
  },
  {
   "cell_type": "code",
   "execution_count": 178,
   "id": "347e5183-360f-4026-8828-d23c0a09af41",
   "metadata": {
    "jupyter": {
     "source_hidden": true
    }
   },
   "outputs": [],
   "source": [
    "# class Solution:\n",
    "#     def maxProduct(self, nums: list[int]) -> int:\n",
    "#         maxProduct = nums[0]\n",
    "#         curProduct = 1\n",
    "\n",
    "#         for n in nums:\n",
    "#             curProduct = curProduct*n\n",
    "#             if n <= 0 and curProduct <0:\n",
    "#                 curProduct = 1\n",
    "#                 continue\n",
    "#             if curProduct > maxProduct:\n",
    "#                 maxProduct = curProduct\n",
    "#         # if maxProduct < 0:\n",
    "#         #     maxProduct = 0\n",
    "#         return maxProduct\n",
    "        \n",
    "# solution = Solution()\n",
    "# nums = [-2,0,-1]\n",
    "# # nums = [2,3,-2,4]\n",
    "# nums = [-3,-1,-1]\n",
    "# # nums = [0,2]\n",
    "# # nums = [3,-1,4]\n",
    "# # nums = [-2]\n",
    "# solution.maxProduct(nums)"
   ]
  },
  {
   "cell_type": "code",
   "execution_count": 177,
   "id": "ad2f2479-e8f7-4295-afb0-e0fb04909a3f",
   "metadata": {},
   "outputs": [
    {
     "data": {
      "text/plain": [
       "-2"
      ]
     },
     "execution_count": 177,
     "metadata": {},
     "output_type": "execute_result"
    }
   ],
   "source": [
    "class Solution:\n",
    "    def maxProduct(self, nums: list[int]) -> int:\n",
    "        prefix = 1\n",
    "        suffix = 1\n",
    "        maxVal = nums[0]\n",
    "        length_num = len(nums)\n",
    "        for i in range(length_num):\n",
    "            if prefix == 0:\n",
    "                prefix = 1\n",
    "            if suffix == 0:\n",
    "                suffix = 1\n",
    "\n",
    "            prefix = prefix * nums[i]\n",
    "            suffix = suffix * nums[length_num-i-1]\n",
    "            maxVal = max(maxVal, max(prefix, suffix))\n",
    "        return maxVal\n",
    "solution = Solution()\n",
    "nums = [-2,0,-1]\n",
    "# nums = [2,3,-2,4]\n",
    "nums = [-3,-1,-1]\n",
    "# nums = [0,2]\n",
    "# nums = [3,-1,4]\n",
    "nums = [-2]\n",
    "solution.maxProduct(nums)"
   ]
  },
  {
   "cell_type": "code",
   "execution_count": null,
   "id": "7888bd3c-1c91-4ce7-9246-2410211899e6",
   "metadata": {},
   "outputs": [],
   "source": []
  }
 ],
 "metadata": {
  "kernelspec": {
   "display_name": "Python 3 (ipykernel)",
   "language": "python",
   "name": "python3"
  },
  "language_info": {
   "codemirror_mode": {
    "name": "ipython",
    "version": 3
   },
   "file_extension": ".py",
   "mimetype": "text/x-python",
   "name": "python",
   "nbconvert_exporter": "python",
   "pygments_lexer": "ipython3",
   "version": "3.10.14"
  }
 },
 "nbformat": 4,
 "nbformat_minor": 5
}
