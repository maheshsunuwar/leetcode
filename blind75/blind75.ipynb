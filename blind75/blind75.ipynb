{
 "cells": [
  {
   "cell_type": "markdown",
   "id": "1a8d7af5-0388-4575-b52b-6c4cba42e144",
   "metadata": {},
   "source": [
    "## Easy"
   ]
  },
  {
   "cell_type": "markdown",
   "id": "47694c8c-79cf-418b-ad6a-25969b9a7e92",
   "metadata": {
    "jp-MarkdownHeadingCollapsed": true
   },
   "source": [
    "### Two Sum "
   ]
  },
  {
   "cell_type": "markdown",
   "id": "ba5c3076-e625-4e90-b8c4-e11b0fad6e21",
   "metadata": {},
   "source": [
    "Given an array of integers `nums` and an integer `target`, return indices of the two numbers such that they add up to `target`.\n",
    "\n",
    "You may assume that each input would have exactly one solution, and you may not use the same element twice.\n",
    "\n",
    "You can return the answer in any order.\n",
    "\n",
    "Example 1:\n",
    "\n",
    "Input: nums = [2,7,11,15], target = 9\n",
    "\n",
    "Output: [0,1]\n",
    "\n",
    "Explanation: Because nums[0] + nums[1] == 9, we return [0, 1].\n",
    "\n",
    "Example 2:\n",
    "\n",
    "Input: nums = [3,2,4], target = 6\n",
    "\n",
    "Output: [1,2]\n",
    "\n",
    "Example 3:\n",
    "\n",
    "Input: nums = [3,3], target = 6\\n\n",
    "\n",
    "Output: [0,1]\n",
    "\n",
    "**Constraints:**\n",
    "\n",
    "- 2 <= nums.length <= 10^4\n",
    "- -10^9 <= nums[i] <= 10^9\n",
    "- -10^9 <= target <= 109\n",
    "- Only one valid answer exists. **we dont have to worry about no solution or multiple solutions**"
   ]
  },
  {
   "cell_type": "code",
   "execution_count": 23,
   "id": "16335c68-cf98-4e78-98c4-808050cfeb6c",
   "metadata": {},
   "outputs": [
    {
     "name": "stdout",
     "output_type": "stream",
     "text": [
      "{3: 7, 2: 1, 4: 2, 8: 3, 7: 4, 5: 5, 0: 6, 6: 8}\n",
      "None\n",
      "CPU times: user 509 µs, sys: 523 µs, total: 1.03 ms\n",
      "Wall time: 570 µs\n"
     ]
    }
   ],
   "source": [
    "%%time\n",
    "class Solution:        \n",
    "    def twoSum(self, nums: list[int], target: int) -> list[int]:\n",
    "        value_index_hash = {}\n",
    "        for i in range(len(nums)):\n",
    "            if (target - nums[i]) in value_index_hash.keys():\n",
    "                return [value_index_hash[target - nums[i]], i]\n",
    "            else:\n",
    "                value_index_hash[nums[i]] = i\n",
    "        print(value_index_hash)\n",
    "                \n",
    "            \n",
    "\n",
    "        \n",
    "\n",
    "solution = Solution()\n",
    "nums = [3,2,4,8,7,5,0,3,6]\n",
    "target = 100\n",
    "\n",
    "print(solution.twoSum(nums, target))"
   ]
  },
  {
   "cell_type": "markdown",
   "id": "e0bb892a-0807-419b-b5a7-1d2323f75fa3",
   "metadata": {},
   "source": [
    "### 121. Best Time to buy and sell stock"
   ]
  },
  {
   "cell_type": "markdown",
   "id": "08ebb1c9-aa5d-4cf4-a41b-19b6d00c8dbe",
   "metadata": {},
   "source": [
    "You are given an array prices where prices[i] is the price of a given stock on the ith day.\n",
    "\n",
    "You want to maximize your profit by choosing a single day to buy one stock and choosing a different day in the future to sell that stock.\n",
    "\n",
    "Return the maximum profit you can achieve from this transaction. If you cannot achieve any profit, return 0.\n",
    "\n",
    " \n",
    "\n",
    "Example 1:\n",
    "\n",
    "Input: prices = [7,1,5,3,6,4]\n",
    "\n",
    "Output: 5\n",
    "\n",
    "Explanation: Buy on day 2 (price = 1) and sell on day 5 (price = 6), profit = 6-1 = 5.\n",
    "\n",
    "Note that buying on day 2 and selling on day 1 is not allowed because you must buy before you sell.\n",
    "\n",
    "Example 2:\n",
    "\n",
    "Input: prices = [7,6,4,3,1]\n",
    "\n",
    "Output: 0\n",
    "\n",
    "Explanation: In this case, no transactions are done and the max profit = 0.\n",
    " \n",
    "\n",
    "Constraints:\n",
    "\n",
    "1 <= prices.length <= 105\n",
    "\n",
    "0 <= prices[i] <= 104"
   ]
  },
  {
   "cell_type": "code",
   "execution_count": 56,
   "id": "d704b6a4-af21-4576-901c-d47c1cc59668",
   "metadata": {},
   "outputs": [
    {
     "name": "stdout",
     "output_type": "stream",
     "text": [
      "6\n",
      "CPU times: user 335 µs, sys: 133 µs, total: 468 µs\n",
      "Wall time: 387 µs\n"
     ]
    }
   ],
   "source": [
    "%%time\n",
    "class Solution:\n",
    "    def maxProfit(self, prices: list[int]) -> int:\n",
    "        l, r = 0, 1\n",
    "        cur_profit = 0\n",
    "\n",
    "        while r < len(prices):\n",
    "            if prices[l] < prices[r]:\n",
    "                profit = prices[r] - prices[l]\n",
    "                cur_profit = max(cur_profit, profit)\n",
    "            else:\n",
    "                l = r\n",
    "            r = r+1\n",
    "        return cur_profit\n",
    "\n",
    "solution = Solution()\n",
    "prices = [3,2,4,8,7,5,0,3,6]\n",
    "# prices = [7,6,4,3,1]\n",
    "# prices = [7,1,5,3,6,4]\n",
    "\n",
    "\n",
    "print(solution.maxProfit(prices))\n",
    "        "
   ]
  },
  {
   "cell_type": "markdown",
   "id": "cd1cd9d4-6c73-465a-bc05-c1d5032b13de",
   "metadata": {},
   "source": [
    "### 217. Contains Duplicate "
   ]
  },
  {
   "cell_type": "markdown",
   "id": "68063f30-f6bc-40c2-bcd4-65bf13b8cc85",
   "metadata": {},
   "source": [
    "Given an integer array nums, `return true` if any value appears at least `twice` in the array, and return false if every element is distinct.\n",
    "\n",
    "Example 1:\n",
    "\n",
    "Input: nums = [1,2,3,1]\n",
    "\n",
    "Output: true\n",
    "\n",
    "Example 2:\n",
    "\n",
    "Input: nums = [1,2,3,4]\n",
    "\n",
    "Output: false\n",
    "\n",
    "Example 3:\n",
    "\n",
    "Input: nums = [1,1,1,3,3,4,3,2,4,2]\n",
    "\n",
    "Output: true\n",
    " \n",
    "\n",
    "Constraints:\n",
    "\n",
    "`1 <= nums.length <= 105`\n",
    "\n",
    "`-109 <= nums[i] <= 109`\n"
   ]
  },
  {
   "cell_type": "code",
   "execution_count": 9,
   "id": "71fd524c-e646-4a5b-b70e-25fcf6ea3b6e",
   "metadata": {},
   "outputs": [
    {
     "data": {
      "text/plain": [
       "False"
      ]
     },
     "execution_count": 9,
     "metadata": {},
     "output_type": "execute_result"
    }
   ],
   "source": [
    "class Solution:\n",
    "    def containsDuplicate(self, nums: list[int]) -> bool:\n",
    "        value_set = {}\n",
    "        for n in nums:\n",
    "            if n in value_set.keys():\n",
    "                return True\n",
    "            else:\n",
    "                value_set[n] = 1\n",
    "        return False\n",
    "        \n",
    "solution = Solution()\n",
    "nums = [1,2,3,1]\n",
    "nums = [1,1,1,3,3,4,3,2,4,2]\n",
    "nums = [1,2,3,4]\n",
    "solution.containsDuplicate(nums)"
   ]
  },
  {
   "cell_type": "code",
   "execution_count": 3,
   "id": "5c3cd5cd-1cd8-4ed3-b0d8-0c43ef0efed3",
   "metadata": {},
   "outputs": [
    {
     "name": "stdout",
     "output_type": "stream",
     "text": [
      "{3, 4, 5}\n"
     ]
    },
    {
     "data": {
      "text/plain": [
       "True"
      ]
     },
     "execution_count": 3,
     "metadata": {},
     "output_type": "execute_result"
    }
   ],
   "source": [
    "value_set = {3,4,5}\n",
    "value_set.add(5)\n",
    "print(value_set)\n",
    "5 in value_set"
   ]
  },
  {
   "cell_type": "markdown",
   "id": "8f7dde9c-6b13-45af-bcf7-2949d3388302",
   "metadata": {},
   "source": [
    "### 125. Valid Palindrome"
   ]
  },
  {
   "cell_type": "markdown",
   "id": "efbf480d-8b42-4862-a4c5-a732da929fcf",
   "metadata": {},
   "source": [
    "A phrase is a palindrome if, after converting all uppercase letters into lowercase letters and removing all non-alphanumeric characters, it reads the same forward and backward. Alphanumeric characters include letters and numbers.\n",
    "\n",
    "Given a string s, return true if it is a palindrome, or false otherwise.\n",
    "\n",
    " \n",
    "\n",
    "Example 1:\n",
    "\n",
    "Input: s = \"A man, a plan, a canal: Panama\"\n",
    "\n",
    "Output: true\n",
    "\n",
    "Explanation: \"amanaplanacanalpanama\" is a palindrome.\n",
    "\n",
    "Example 2:\n",
    "\n",
    "Input: s = \"race a car\"\n",
    "\n",
    "Output: false\n",
    "\n",
    "Explanation: \"raceacar\" is not a palindrome.\n",
    "\n",
    "Example 3:\n",
    "\n",
    "Input: s = \" \"\n",
    "\n",
    "Output: true\n",
    "\n",
    "Explanation: s is an empty string \"\" after removing non-alphanumeric characters.\n",
    "\n",
    "Since an empty string reads the same forward and backward, it is a palindrome.\n",
    " \n",
    "Constraints:\n",
    "\n",
    "1 <= s.length <= 2 * 105\n",
    "\n",
    "s consists only of printable ASCII characters."
   ]
  },
  {
   "cell_type": "code",
   "execution_count": 17,
   "id": "f09aedef-054c-418c-a44c-9f8d316804d0",
   "metadata": {},
   "outputs": [
    {
     "data": {
      "text/plain": [
       "True"
      ]
     },
     "execution_count": 17,
     "metadata": {},
     "output_type": "execute_result"
    }
   ],
   "source": [
    "class Solution:\n",
    "    def isPalindrome(self, s: str) -> bool:\n",
    "        modified_str = ''\n",
    "        for c in s:\n",
    "            if c.isalnum():\n",
    "                modified_str+=c.lower()\n",
    "        return modified_str == modified_str[::-1]\n",
    "            \n",
    "\n",
    "solution = Solution()\n",
    "s = \"Marge, let's \\\"[went].\\\" I await {news} telegram.\"\n",
    "# s = \"A man, a plan, a canal: Panama\"\n",
    "solution.isPalindrome(s)"
   ]
  },
  {
   "cell_type": "code",
   "execution_count": 21,
   "id": "f78f735a-e44e-46e8-bff6-a9e3ebf4cb84",
   "metadata": {},
   "outputs": [
    {
     "data": {
      "text/plain": [
       "True"
      ]
     },
     "execution_count": 21,
     "metadata": {},
     "output_type": "execute_result"
    }
   ],
   "source": [
    "# two pointer solution\n",
    "\n",
    "class Solution:\n",
    "    def isPalindrome(self, s: str) -> bool:\n",
    "        modified_str = ''\n",
    "        #remove all non alphanumeric values\n",
    "        # complexity of this algorithm is O(n)\n",
    "        for c in s:\n",
    "            if c.isalnum():\n",
    "                modified_str+=c.lower()\n",
    "        i = 0\n",
    "        j = len(modified_str) - 1\n",
    "\n",
    "        # check the first index value and last index value simultaneously\n",
    "        # stop in the middle - and if middle reached then palindrome true\n",
    "        # else palindrome false\n",
    "        # complexity of this algorithm is O(n/2) = O(n)\n",
    "        while i < j:\n",
    "            if modified_str[i] !=modified_str[j]:\n",
    "                return False\n",
    "            else:\n",
    "                i +=1\n",
    "                j -=1\n",
    "        return True\n",
    "            \n",
    "\n",
    "solution = Solution()\n",
    "s = \"Marge, let's \\\"[went].\\\" I await {news} telegram.\"\n",
    "# s = \"A man, a plan, a canal: Panama\"\n",
    "solution.isPalindrome(s)"
   ]
  },
  {
   "cell_type": "code",
   "execution_count": 22,
   "id": "02e9411a-1dfd-4b1e-8788-17604b80402e",
   "metadata": {},
   "outputs": [
    {
     "data": {
      "text/plain": [
       "False"
      ]
     },
     "execution_count": 22,
     "metadata": {},
     "output_type": "execute_result"
    }
   ],
   "source": [
    "s = \"0P\"\n",
    "# s = \"A man, a plan, a canal: Panama\"\n",
    "solution.isPalindrome(s)"
   ]
  },
  {
   "cell_type": "markdown",
   "id": "0d404a47-7d3e-4027-8aa2-c83e5380dab6",
   "metadata": {},
   "source": [
    "### 242. Valid Anagram"
   ]
  },
  {
   "cell_type": "markdown",
   "id": "95384753-a0f2-447f-a4bd-d177bc0f5ff3",
   "metadata": {},
   "source": [
    "Given two strings s and t, return true if t is an anagram of s, and false otherwise.\n",
    "\n",
    "An Anagram is a word or phrase formed by rearranging the letters of a different word or phrase, typically using all the original letters exactly once.\n",
    "\n",
    " \n",
    "\n",
    "Example 1:\n",
    "\n",
    "Input: s = \"anagram\", t = \"nagaram\"\n",
    "\n",
    "Output: true\n",
    "\n",
    "Example 2:\n",
    "\n",
    "Input: s = \"rat\", t = \"car\"\n",
    "\n",
    "Output: false\n",
    " \n",
    "\n",
    "Constraints:\n",
    "\n",
    "1 <= s.length, t.length <= 5 * 104\n",
    "\n",
    "s and t consist of lowercase English letters.\n"
   ]
  },
  {
   "cell_type": "code",
   "execution_count": 73,
   "id": "391b1547-362c-406a-a661-df74cc97c842",
   "metadata": {},
   "outputs": [
    {
     "data": {
      "text/plain": [
       "True"
      ]
     },
     "execution_count": 73,
     "metadata": {},
     "output_type": "execute_result"
    }
   ],
   "source": [
    "class Solution:\n",
    "    def isAnagram(self, s: str, t: str) -> bool:\n",
    "        if len(s) == len(t):\n",
    "            s_hash_map = {}\n",
    "            for s_val in s:\n",
    "                if s_val in s_hash_map.keys():\n",
    "                    s_hash_map[s_val] += 1\n",
    "                else:\n",
    "                    s_hash_map[s_val] = 1                \n",
    "            \n",
    "            t_hash_map = {key:0 for key in s_hash_map.keys()}\n",
    "            \n",
    "            for t_val in t:\n",
    "                if t_val in t_hash_map.keys():\n",
    "                    t_hash_map[t_val] +=1\n",
    "                else:\n",
    "                    return False\n",
    "            for key in t_hash_map.keys():\n",
    "                if t_hash_map[key] == 0:\n",
    "                    return False\n",
    "                elif t_hash_map[key] > s_hash_map[key]:\n",
    "                    return False\n",
    "                elif t_hash_map[key] < s_hash_map[key]:\n",
    "                    return False\n",
    "                else:\n",
    "                    return True\n",
    "        return False\n",
    "        \n",
    "solution = Solution()\n",
    "s = \"anagram\"\n",
    "t = \"nagaram\"\n",
    "solution.isAnagram(s,t)\n",
    "        "
   ]
  },
  {
   "cell_type": "code",
   "execution_count": 74,
   "id": "347501ac-1845-45e7-a576-2ff73ddf44ce",
   "metadata": {},
   "outputs": [
    {
     "data": {
      "text/plain": [
       "False"
      ]
     },
     "execution_count": 74,
     "metadata": {},
     "output_type": "execute_result"
    }
   ],
   "source": [
    "s =\"aacc\"\n",
    "t = \"ccac\"\n",
    "solution.isAnagram(s,t)"
   ]
  },
  {
   "cell_type": "code",
   "execution_count": 75,
   "id": "f57bf873-62cd-46eb-8952-d60346efab47",
   "metadata": {},
   "outputs": [
    {
     "data": {
      "text/plain": [
       "False"
      ]
     },
     "execution_count": 75,
     "metadata": {},
     "output_type": "execute_result"
    }
   ],
   "source": [
    "s =\"anagtam\"\n",
    "t =\"nbgbram\"\n",
    "solution.isAnagram(s,t)"
   ]
  },
  {
   "cell_type": "markdown",
   "id": "444c74d7-2640-4ac2-9827-de51186c8149",
   "metadata": {},
   "source": [
    "# Medium"
   ]
  },
  {
   "cell_type": "code",
   "execution_count": null,
   "id": "797e2563-e6a0-4d10-a920-80b43a444019",
   "metadata": {},
   "outputs": [],
   "source": []
  },
  {
   "cell_type": "code",
   "execution_count": null,
   "id": "634969b1-f457-495e-99ae-0c1a4b03b72b",
   "metadata": {},
   "outputs": [],
   "source": []
  },
  {
   "cell_type": "code",
   "execution_count": null,
   "id": "8a980b88-927c-4b57-afe2-6825fe79e8e2",
   "metadata": {},
   "outputs": [],
   "source": []
  }
 ],
 "metadata": {
  "kernelspec": {
   "display_name": "Python 3 (ipykernel)",
   "language": "python",
   "name": "python3"
  },
  "language_info": {
   "codemirror_mode": {
    "name": "ipython",
    "version": 3
   },
   "file_extension": ".py",
   "mimetype": "text/x-python",
   "name": "python",
   "nbconvert_exporter": "python",
   "pygments_lexer": "ipython3",
   "version": "3.10.14"
  }
 },
 "nbformat": 4,
 "nbformat_minor": 5
}
