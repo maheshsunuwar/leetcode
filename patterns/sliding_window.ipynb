{
 "cells": [
  {
   "cell_type": "markdown",
   "id": "98c2df75-d2fe-409d-8da4-ab5b53087055",
   "metadata": {},
   "source": [
    "# Sliding Window Pattern"
   ]
  },
  {
   "cell_type": "markdown",
   "id": "c9c9f803-4776-463c-aa35-6d19dbdbcb6c",
   "metadata": {},
   "source": [
    "## 560. Subarray Sum Equals K\n",
    "[Leetcode Link](https://leetcode.com/problems/subarray-sum-equals-k/description/)"
   ]
  },
  {
   "cell_type": "code",
   "execution_count": 49,
   "id": "0019815e-2492-4ae3-b1af-1a1d25d08847",
   "metadata": {},
   "outputs": [],
   "source": [
    "from typing import List\n",
    "from collections import defaultdict\n",
    "\n",
    "class Solution:\n",
    "    def subarraySum(self, nums: List[int], k: int) -> int:\n",
    "    # HashMap to store (prefix_sum, count of occurrences)\n",
    "        prefix_sum_count = defaultdict(int)\n",
    "        prefix_sum_count[0] = 1  # To handle subarrays that sum to k starting from index 0\n",
    "        \n",
    "        current_sum = 0  # Cumulative sum\n",
    "        count = 0  # Total number of subarrays with sum = k\n",
    "        \n",
    "        for num in nums:\n",
    "            current_sum += num  # Update cumulative sum\n",
    "            \n",
    "            # Check if (current_sum - k) exists in the hashmap\n",
    "            if (current_sum - k) in prefix_sum_count:\n",
    "                count += prefix_sum_count[current_sum - k]  # Add occurrences to the count\n",
    "            \n",
    "            # Update the hashmap with the current cumulative sum\n",
    "            prefix_sum_count[current_sum] += 1\n",
    "        \n",
    "        return count\n",
    "\n",
    "    # def subarraySum(self, nums: List[int], k: int) -> int:\n",
    "        # return self.subarraySumUptoK(nums, k) - self.subarraySumUptoK(nums, k-1)"
   ]
  },
  {
   "cell_type": "markdown",
   "id": "34245f83-8030-415f-9347-fddb3cf564aa",
   "metadata": {},
   "source": [
    "## Subarray Product Less than k\n",
    "\n",
    "[https://leetcode.com/problems/subarray-product-less-than-k/description/](https://leetcode.com/problems/subarray-product-less-than-k/description/)"
   ]
  },
  {
   "cell_type": "code",
   "execution_count": 3,
   "id": "bc9e0531-897b-4e6f-a5ab-6e0c3ba2c5ff",
   "metadata": {},
   "outputs": [],
   "source": [
    "from typing import List\n",
    "\n",
    "class Solution:\n",
    "    def numSubarrayProductLessThanK(self, nums: List[int], k: int) -> int:\n",
    "        start = 0\n",
    "        count = 0 # counts total subarray\n",
    "        cur_product = 1\n",
    "\n",
    "        for end in range(len(nums)):\n",
    "            cur_product *= nums[end] # update the current product\n",
    "\n",
    "            while cur_product >= k and start <= end:\n",
    "                cur_product //= nums[start] # if product is greater or equal to k, remove the product from the index start\n",
    "                start+=1\n",
    "\n",
    "            count += (end-start+1) # total count of the subarry\n",
    "        return count"
   ]
  },
  {
   "cell_type": "markdown",
   "id": "59c77cae-9f2a-4ec9-b82d-960124550d69",
   "metadata": {},
   "source": [
    "## [992. Subarrays with K Different Integers](https://leetcode.com/problems/subarrays-with-k-different-integers/description/)"
   ]
  },
  {
   "cell_type": "code",
   "execution_count": 2,
   "id": "7849e624-286f-498d-80e6-fa5841728adf",
   "metadata": {},
   "outputs": [],
   "source": [
    "from typing import List\n",
    "\n",
    "class Solution:\n",
    "    def subarrayWithAtMostKDistinct(self, nums: List[int], k: int) -> int:\n",
    "        start = 0\n",
    "        sub_count = 0\n",
    "        freq_dict = {}\n",
    "\n",
    "        for end in range(len(nums)):\n",
    "            if nums[end] in freq_dict:\n",
    "                freq_dict[nums[end]] +=1\n",
    "            else:\n",
    "                freq_dict[nums[end]] = 1\n",
    "\n",
    "            while len(freq_dict) > k:\n",
    "                freq_dict[nums[start]] -= 1\n",
    "                if freq_dict[nums[start]] == 0:\n",
    "                    del freq_dict[nums[start]]\n",
    "                start +=1\n",
    "            sub_count += (end - start +1)\n",
    "        return sub_count\n",
    "\n",
    "    def subarraysWithKDistinct(self, nums: List[int], k: int) -> int:\n",
    "        return self.subarrayWithAtMostKDistinct(nums, k) - self.subarrayWithAtMostKDistinct(nums, k-1)"
   ]
  },
  {
   "cell_type": "markdown",
   "id": "3fffc2ca-84fd-4cc6-b5bf-094edfc31aef",
   "metadata": {},
   "source": [
    "## [3. Longest Substring Without Repeating Characters](https://leetcode.com/problems/longest-substring-without-repeating-characters/)"
   ]
  },
  {
   "cell_type": "code",
   "execution_count": 3,
   "id": "eabc4760-bb50-4e3f-a5c0-03263fe05c80",
   "metadata": {},
   "outputs": [],
   "source": [
    "from typing import List\n",
    "\n",
    "class Solution:\n",
    "    def lengthOfLongestSubstring(self, s: str) -> int:\n",
    "        start = 0 # start at 0th index of the string\n",
    "        char_set = set() # save the characters in a set to make sure the are unique\n",
    "        max_length = 0 # initially maximum length of the substring is 0\n",
    "\n",
    "        for end in range(len(s)):\n",
    "            while s[end] in char_set: # while the char in the end index is in char_set\n",
    "                char_set.remove(s[start]) # remove item from the index = start\n",
    "                start +=1\n",
    "            char_set.add(s[end]) # add the item from the index = end\n",
    "            max_length = max(max_length, end - start + 1) # update the max_length of the subarray\n",
    "        return max_length\n",
    "        "
   ]
  },
  {
   "cell_type": "code",
   "execution_count": null,
   "id": "7ca4e5ea-1fe7-4475-9578-55e3706c3fe2",
   "metadata": {},
   "outputs": [],
   "source": []
  }
 ],
 "metadata": {
  "kernelspec": {
   "display_name": "Python 3 (ipykernel)",
   "language": "python",
   "name": "python3"
  },
  "language_info": {
   "codemirror_mode": {
    "name": "ipython",
    "version": 3
   },
   "file_extension": ".py",
   "mimetype": "text/x-python",
   "name": "python",
   "nbconvert_exporter": "python",
   "pygments_lexer": "ipython3",
   "version": "3.10.14"
  }
 },
 "nbformat": 4,
 "nbformat_minor": 5
}
