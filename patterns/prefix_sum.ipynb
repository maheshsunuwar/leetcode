{
 "cells": [
  {
   "cell_type": "markdown",
   "id": "98c2df75-d2fe-409d-8da4-ab5b53087055",
   "metadata": {},
   "source": [
    "# Prefix Sum Pattern"
   ]
  },
  {
   "cell_type": "code",
   "execution_count": 1,
   "id": "aa2b63d9-5873-4ad8-b7c1-c19a72d7d58c",
   "metadata": {},
   "outputs": [],
   "source": [
    "from typing import List"
   ]
  },
  {
   "cell_type": "markdown",
   "id": "4152f640-b05b-40b0-8e36-391d790c219b",
   "metadata": {},
   "source": [
    "## 303. Range Sum Query - Immutable\n",
    "\n",
    "[Leetcode Link](https://leetcode.com/problems/range-sum-query-immutable/description/)"
   ]
  },
  {
   "cell_type": "code",
   "execution_count": 3,
   "id": "acda99b4-2c64-4078-a7a2-5c5c67309dcb",
   "metadata": {},
   "outputs": [
    {
     "name": "stdout",
     "output_type": "stream",
     "text": [
      "1 -1 -3\n"
     ]
    }
   ],
   "source": [
    "class NumArray:\n",
    "\n",
    "    def __init__(self, nums: List[int]):\n",
    "        self.nums = nums\n",
    "\n",
    "        for i in range(len(self.nums)):\n",
    "            if i == 0:\n",
    "                 continue\n",
    "            else:\n",
    "                 self.nums[i] +=  self.nums[i-1] \n",
    "    def sumRange(self, left: int, right: int) -> int:\n",
    "        return  self.nums[right] -  (self.nums[left-1] if (left-1) >=0 else 0)\n",
    "\n",
    "\n",
    "\n",
    "# Your NumArray object will be instantiated and called as such:\n",
    "nums = [-2,0,3,-5,2,-1]\n",
    "obj = NumArray(nums)\n",
    "\n",
    "left, right = 0,2\n",
    "param_2 = obj.sumRange(left,right)\n",
    "\n",
    "left, right = 2,5\n",
    "param_3 = obj.sumRange(left,right)\n",
    "\n",
    "left, right = 0, 5\n",
    "param_4 = obj.sumRange(left,right)\n",
    "\n",
    "print(param_2, param_3, param_4)"
   ]
  },
  {
   "cell_type": "code",
   "execution_count": null,
   "id": "3ceadc1e-c742-4f36-9067-d95b2f209ff3",
   "metadata": {},
   "outputs": [],
   "source": []
  }
 ],
 "metadata": {
  "kernelspec": {
   "display_name": "Python 3 (ipykernel)",
   "language": "python",
   "name": "python3"
  },
  "language_info": {
   "codemirror_mode": {
    "name": "ipython",
    "version": 3
   },
   "file_extension": ".py",
   "mimetype": "text/x-python",
   "name": "python",
   "nbconvert_exporter": "python",
   "pygments_lexer": "ipython3",
   "version": "3.10.14"
  }
 },
 "nbformat": 4,
 "nbformat_minor": 5
}
